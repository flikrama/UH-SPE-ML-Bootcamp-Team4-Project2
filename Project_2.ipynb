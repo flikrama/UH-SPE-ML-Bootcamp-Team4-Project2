{
  "nbformat": 4,
  "nbformat_minor": 0,
  "metadata": {
    "kernelspec": {
      "display_name": "Python 3",
      "language": "python",
      "name": "python3"
    },
    "language_info": {
      "codemirror_mode": {
        "name": "ipython",
        "version": 3
      },
      "file_extension": ".py",
      "mimetype": "text/x-python",
      "name": "python",
      "nbconvert_exporter": "python",
      "pygments_lexer": "ipython3",
      "version": "3.6.9"
    },
    "colab": {
      "name": "Project 2",
      "provenance": [],
      "collapsed_sections": [],
      "include_colab_link": true
    },
    "accelerator": "GPU"
  },
  "cells": [
    {
      "cell_type": "markdown",
      "metadata": {
        "id": "view-in-github",
        "colab_type": "text"
      },
      "source": [
        "<a href=\"https://colab.research.google.com/github/flikrama/UH-SPE-ML-Bootcamp-Team4-Project2/blob/master/Project_2.ipynb\" target=\"_parent\"><img src=\"https://colab.research.google.com/assets/colab-badge.svg\" alt=\"Open In Colab\"/></a>"
      ]
    },
    {
      "cell_type": "code",
      "metadata": {
        "id": "gr1k7BKZqAP3",
        "colab_type": "code",
        "colab": {
          "base_uri": "https://localhost:8080/",
          "height": 147
        },
        "outputId": "32ec4d8d-8642-4519-f0c6-feca0c4e70c3"
      },
      "source": [
        "import pandas as pd\n",
        "import numpy as np\n",
        "import matplotlib.pyplot as plt\n",
        "import seaborn as sb\n",
        "%matplotlib inline\n",
        "from plotly.subplots import make_subplots\n",
        "import plotly.graph_objects as go\n",
        "import plotly.express as px\n",
        "from plotly import *\n",
        "from IPython.display import Image\n",
        "import scipy.stats as stats\n",
        "from sklearn.model_selection import train_test_split\n",
        "from sklearn.linear_model import LogisticRegression\n",
        "from sklearn.model_selection import StratifiedKFold, cross_val_score, cross_val_predict # Cross Validation\n",
        "from sklearn.ensemble import RandomForestClassifier\n",
        "from sklearn import metrics\n",
        "#from sklearn.metrics import classification_report, roc_auc_score, precision_score,recall_score\n",
        "from yellowbrick.classifier import ROCAUC\n",
        "\n"
      ],
      "execution_count": 3,
      "outputs": [
        {
          "output_type": "stream",
          "text": [
            "/usr/local/lib/python3.6/dist-packages/statsmodels/tools/_testing.py:19: FutureWarning: pandas.util.testing is deprecated. Use the functions in the public API at pandas.testing instead.\n",
            "  import pandas.util.testing as tm\n",
            "/usr/local/lib/python3.6/dist-packages/sklearn/utils/deprecation.py:144: FutureWarning:\n",
            "\n",
            "The sklearn.metrics.classification module is  deprecated in version 0.22 and will be removed in version 0.24. The corresponding classes / functions should instead be imported from sklearn.metrics. Anything that cannot be imported from sklearn.metrics is now part of the private API.\n",
            "\n"
          ],
          "name": "stderr"
        }
      ]
    },
    {
      "cell_type": "code",
      "metadata": {
        "id": "G9qpoaBbKtZ2",
        "colab_type": "code",
        "colab": {
          "base_uri": "https://localhost:8080/",
          "height": 244
        },
        "outputId": "2952c0b7-8d51-4c4f-895e-7b8828621cd8"
      },
      "source": [
        "# The URL is from Fatmir's Project 2 Github, \n",
        "# Pratik suggested to get the url so it can load fast, it only took a few seconds to load now! - Celine\n",
        "path20 = 'https://raw.githubusercontent.com/flikrama/UH-SPE-ML-Bootcamp-Team4-Project2/master/Jan_2020_ontime.csv'\n",
        "path19 = 'https://raw.githubusercontent.com/flikrama/UH-SPE-ML-Bootcamp-Team4-Project2/master/Jan_2019_ontime.csv'\n",
        "df19 = pd.read_csv(path19)\n",
        "df20 = pd.read_csv(path20)\n",
        "df20.head()"
      ],
      "execution_count": 4,
      "outputs": [
        {
          "output_type": "execute_result",
          "data": {
            "text/html": [
              "<div>\n",
              "<style scoped>\n",
              "    .dataframe tbody tr th:only-of-type {\n",
              "        vertical-align: middle;\n",
              "    }\n",
              "\n",
              "    .dataframe tbody tr th {\n",
              "        vertical-align: top;\n",
              "    }\n",
              "\n",
              "    .dataframe thead th {\n",
              "        text-align: right;\n",
              "    }\n",
              "</style>\n",
              "<table border=\"1\" class=\"dataframe\">\n",
              "  <thead>\n",
              "    <tr style=\"text-align: right;\">\n",
              "      <th></th>\n",
              "      <th>DAY_OF_MONTH</th>\n",
              "      <th>DAY_OF_WEEK</th>\n",
              "      <th>OP_UNIQUE_CARRIER</th>\n",
              "      <th>OP_CARRIER_AIRLINE_ID</th>\n",
              "      <th>OP_CARRIER</th>\n",
              "      <th>TAIL_NUM</th>\n",
              "      <th>OP_CARRIER_FL_NUM</th>\n",
              "      <th>ORIGIN_AIRPORT_ID</th>\n",
              "      <th>ORIGIN_AIRPORT_SEQ_ID</th>\n",
              "      <th>ORIGIN</th>\n",
              "      <th>DEST_AIRPORT_ID</th>\n",
              "      <th>DEST_AIRPORT_SEQ_ID</th>\n",
              "      <th>DEST</th>\n",
              "      <th>DEP_TIME</th>\n",
              "      <th>DEP_DEL15</th>\n",
              "      <th>DEP_TIME_BLK</th>\n",
              "      <th>ARR_TIME</th>\n",
              "      <th>ARR_DEL15</th>\n",
              "      <th>CANCELLED</th>\n",
              "      <th>DIVERTED</th>\n",
              "      <th>DISTANCE</th>\n",
              "      <th>Unnamed: 21</th>\n",
              "    </tr>\n",
              "  </thead>\n",
              "  <tbody>\n",
              "    <tr>\n",
              "      <th>0</th>\n",
              "      <td>1</td>\n",
              "      <td>3</td>\n",
              "      <td>EV</td>\n",
              "      <td>20366</td>\n",
              "      <td>EV</td>\n",
              "      <td>N48901</td>\n",
              "      <td>4397</td>\n",
              "      <td>13930</td>\n",
              "      <td>1393007</td>\n",
              "      <td>ORD</td>\n",
              "      <td>11977</td>\n",
              "      <td>1197705</td>\n",
              "      <td>GRB</td>\n",
              "      <td>1003.0</td>\n",
              "      <td>0.0</td>\n",
              "      <td>1000-1059</td>\n",
              "      <td>1117.0</td>\n",
              "      <td>0.0</td>\n",
              "      <td>0.0</td>\n",
              "      <td>0.0</td>\n",
              "      <td>174.0</td>\n",
              "      <td>NaN</td>\n",
              "    </tr>\n",
              "    <tr>\n",
              "      <th>1</th>\n",
              "      <td>1</td>\n",
              "      <td>3</td>\n",
              "      <td>EV</td>\n",
              "      <td>20366</td>\n",
              "      <td>EV</td>\n",
              "      <td>N16976</td>\n",
              "      <td>4401</td>\n",
              "      <td>15370</td>\n",
              "      <td>1537002</td>\n",
              "      <td>TUL</td>\n",
              "      <td>13930</td>\n",
              "      <td>1393007</td>\n",
              "      <td>ORD</td>\n",
              "      <td>1027.0</td>\n",
              "      <td>0.0</td>\n",
              "      <td>1000-1059</td>\n",
              "      <td>1216.0</td>\n",
              "      <td>0.0</td>\n",
              "      <td>0.0</td>\n",
              "      <td>0.0</td>\n",
              "      <td>585.0</td>\n",
              "      <td>NaN</td>\n",
              "    </tr>\n",
              "    <tr>\n",
              "      <th>2</th>\n",
              "      <td>1</td>\n",
              "      <td>3</td>\n",
              "      <td>EV</td>\n",
              "      <td>20366</td>\n",
              "      <td>EV</td>\n",
              "      <td>N12167</td>\n",
              "      <td>4404</td>\n",
              "      <td>11618</td>\n",
              "      <td>1161802</td>\n",
              "      <td>EWR</td>\n",
              "      <td>15412</td>\n",
              "      <td>1541205</td>\n",
              "      <td>TYS</td>\n",
              "      <td>1848.0</td>\n",
              "      <td>0.0</td>\n",
              "      <td>1800-1859</td>\n",
              "      <td>2120.0</td>\n",
              "      <td>0.0</td>\n",
              "      <td>0.0</td>\n",
              "      <td>0.0</td>\n",
              "      <td>631.0</td>\n",
              "      <td>NaN</td>\n",
              "    </tr>\n",
              "    <tr>\n",
              "      <th>3</th>\n",
              "      <td>1</td>\n",
              "      <td>3</td>\n",
              "      <td>EV</td>\n",
              "      <td>20366</td>\n",
              "      <td>EV</td>\n",
              "      <td>N14902</td>\n",
              "      <td>4405</td>\n",
              "      <td>10781</td>\n",
              "      <td>1078105</td>\n",
              "      <td>BTR</td>\n",
              "      <td>12266</td>\n",
              "      <td>1226603</td>\n",
              "      <td>IAH</td>\n",
              "      <td>1846.0</td>\n",
              "      <td>0.0</td>\n",
              "      <td>1800-1859</td>\n",
              "      <td>2004.0</td>\n",
              "      <td>0.0</td>\n",
              "      <td>0.0</td>\n",
              "      <td>0.0</td>\n",
              "      <td>253.0</td>\n",
              "      <td>NaN</td>\n",
              "    </tr>\n",
              "    <tr>\n",
              "      <th>4</th>\n",
              "      <td>1</td>\n",
              "      <td>3</td>\n",
              "      <td>EV</td>\n",
              "      <td>20366</td>\n",
              "      <td>EV</td>\n",
              "      <td>N606UX</td>\n",
              "      <td>4407</td>\n",
              "      <td>14524</td>\n",
              "      <td>1452401</td>\n",
              "      <td>RIC</td>\n",
              "      <td>12266</td>\n",
              "      <td>1226603</td>\n",
              "      <td>IAH</td>\n",
              "      <td>1038.0</td>\n",
              "      <td>0.0</td>\n",
              "      <td>1000-1059</td>\n",
              "      <td>1330.0</td>\n",
              "      <td>0.0</td>\n",
              "      <td>0.0</td>\n",
              "      <td>0.0</td>\n",
              "      <td>1157.0</td>\n",
              "      <td>NaN</td>\n",
              "    </tr>\n",
              "  </tbody>\n",
              "</table>\n",
              "</div>"
            ],
            "text/plain": [
              "   DAY_OF_MONTH  DAY_OF_WEEK OP_UNIQUE_CARRIER  ...  DIVERTED DISTANCE Unnamed: 21\n",
              "0             1            3                EV  ...       0.0    174.0         NaN\n",
              "1             1            3                EV  ...       0.0    585.0         NaN\n",
              "2             1            3                EV  ...       0.0    631.0         NaN\n",
              "3             1            3                EV  ...       0.0    253.0         NaN\n",
              "4             1            3                EV  ...       0.0   1157.0         NaN\n",
              "\n",
              "[5 rows x 22 columns]"
            ]
          },
          "metadata": {
            "tags": []
          },
          "execution_count": 4
        }
      ]
    },
    {
      "cell_type": "code",
      "metadata": {
        "id": "KGMpOL1RqAP8",
        "colab_type": "code",
        "colab": {
          "base_uri": "https://localhost:8080/",
          "height": 146
        },
        "outputId": "416fa89d-fed0-4e31-a8fc-cd9f9341a2e3"
      },
      "source": [
        "df20.columns"
      ],
      "execution_count": 5,
      "outputs": [
        {
          "output_type": "execute_result",
          "data": {
            "text/plain": [
              "Index(['DAY_OF_MONTH', 'DAY_OF_WEEK', 'OP_UNIQUE_CARRIER',\n",
              "       'OP_CARRIER_AIRLINE_ID', 'OP_CARRIER', 'TAIL_NUM', 'OP_CARRIER_FL_NUM',\n",
              "       'ORIGIN_AIRPORT_ID', 'ORIGIN_AIRPORT_SEQ_ID', 'ORIGIN',\n",
              "       'DEST_AIRPORT_ID', 'DEST_AIRPORT_SEQ_ID', 'DEST', 'DEP_TIME',\n",
              "       'DEP_DEL15', 'DEP_TIME_BLK', 'ARR_TIME', 'ARR_DEL15', 'CANCELLED',\n",
              "       'DIVERTED', 'DISTANCE', 'Unnamed: 21'],\n",
              "      dtype='object')"
            ]
          },
          "metadata": {
            "tags": []
          },
          "execution_count": 5
        }
      ]
    },
    {
      "cell_type": "code",
      "metadata": {
        "id": "gpnf53B2qAQA",
        "colab_type": "code",
        "colab": {}
      },
      "source": [
        "df19 = df19.drop('Unnamed: 21', axis = 1)\n",
        "df20 = df20.drop('Unnamed: 21', axis = 1)"
      ],
      "execution_count": 6,
      "outputs": []
    },
    {
      "cell_type": "code",
      "metadata": {
        "id": "0e_YVMknqAQE",
        "colab_type": "code",
        "colab": {
          "base_uri": "https://localhost:8080/",
          "height": 641
        },
        "outputId": "f4d44852-c1fe-422e-ea56-150fd7641ebb"
      },
      "source": [
        "print(df19.shape)\n",
        "print(df19.describe())\n",
        "print(df19.dtypes)"
      ],
      "execution_count": 7,
      "outputs": [
        {
          "output_type": "stream",
          "text": [
            "(583985, 21)\n",
            "        DAY_OF_MONTH    DAY_OF_WEEK  ...       DIVERTED       DISTANCE\n",
            "count  583985.000000  583985.000000  ...  583985.000000  583985.000000\n",
            "mean       15.960088       3.835626  ...       0.002219     797.742767\n",
            "std         8.987942       1.921899  ...       0.047056     589.999261\n",
            "min         1.000000       1.000000  ...       0.000000      31.000000\n",
            "25%         8.000000       2.000000  ...       0.000000     363.000000\n",
            "50%        16.000000       4.000000  ...       0.000000     640.000000\n",
            "75%        24.000000       5.000000  ...       0.000000    1037.000000\n",
            "max        31.000000       7.000000  ...       1.000000    4983.000000\n",
            "\n",
            "[8 rows x 15 columns]\n",
            "DAY_OF_MONTH               int64\n",
            "DAY_OF_WEEK                int64\n",
            "OP_UNIQUE_CARRIER         object\n",
            "OP_CARRIER_AIRLINE_ID      int64\n",
            "OP_CARRIER                object\n",
            "TAIL_NUM                  object\n",
            "OP_CARRIER_FL_NUM          int64\n",
            "ORIGIN_AIRPORT_ID          int64\n",
            "ORIGIN_AIRPORT_SEQ_ID      int64\n",
            "ORIGIN                    object\n",
            "DEST_AIRPORT_ID            int64\n",
            "DEST_AIRPORT_SEQ_ID        int64\n",
            "DEST                      object\n",
            "DEP_TIME                 float64\n",
            "DEP_DEL15                float64\n",
            "DEP_TIME_BLK              object\n",
            "ARR_TIME                 float64\n",
            "ARR_DEL15                float64\n",
            "CANCELLED                float64\n",
            "DIVERTED                 float64\n",
            "DISTANCE                 float64\n",
            "dtype: object\n"
          ],
          "name": "stdout"
        }
      ]
    },
    {
      "cell_type": "code",
      "metadata": {
        "id": "vfCn3eBmh9iG",
        "colab_type": "code",
        "colab": {
          "base_uri": "https://localhost:8080/",
          "height": 641
        },
        "outputId": "378413ec-b405-4bff-9ec5-8f2a93a4fe10"
      },
      "source": [
        "print(df20.shape)\n",
        "print(df20.describe())\n",
        "print(df20.dtypes)"
      ],
      "execution_count": 8,
      "outputs": [
        {
          "output_type": "stream",
          "text": [
            "(607346, 21)\n",
            "        DAY_OF_MONTH    DAY_OF_WEEK  ...       DIVERTED       DISTANCE\n",
            "count  607346.000000  607346.000000  ...  607346.000000  607346.000000\n",
            "mean       16.014354       3.955735  ...       0.001893     798.022341\n",
            "std         8.990719       1.910205  ...       0.043473     587.282639\n",
            "min         1.000000       1.000000  ...       0.000000      31.000000\n",
            "25%         8.000000       2.000000  ...       0.000000     369.000000\n",
            "50%        16.000000       4.000000  ...       0.000000     641.000000\n",
            "75%        24.000000       5.000000  ...       0.000000    1037.000000\n",
            "max        31.000000       7.000000  ...       1.000000    5095.000000\n",
            "\n",
            "[8 rows x 15 columns]\n",
            "DAY_OF_MONTH               int64\n",
            "DAY_OF_WEEK                int64\n",
            "OP_UNIQUE_CARRIER         object\n",
            "OP_CARRIER_AIRLINE_ID      int64\n",
            "OP_CARRIER                object\n",
            "TAIL_NUM                  object\n",
            "OP_CARRIER_FL_NUM          int64\n",
            "ORIGIN_AIRPORT_ID          int64\n",
            "ORIGIN_AIRPORT_SEQ_ID      int64\n",
            "ORIGIN                    object\n",
            "DEST_AIRPORT_ID            int64\n",
            "DEST_AIRPORT_SEQ_ID        int64\n",
            "DEST                      object\n",
            "DEP_TIME                 float64\n",
            "DEP_DEL15                float64\n",
            "DEP_TIME_BLK              object\n",
            "ARR_TIME                 float64\n",
            "ARR_DEL15                float64\n",
            "CANCELLED                float64\n",
            "DIVERTED                 float64\n",
            "DISTANCE                 float64\n",
            "dtype: object\n"
          ],
          "name": "stdout"
        }
      ]
    },
    {
      "cell_type": "code",
      "metadata": {
        "id": "r98E3Seqv7U0",
        "colab_type": "code",
        "colab": {
          "base_uri": "https://localhost:8080/",
          "height": 421
        },
        "outputId": "29d21782-c60f-4d28-a3a7-79549baa5ed3"
      },
      "source": [
        "# Number of NaN values in df for each column\n",
        "df19.isna().sum()"
      ],
      "execution_count": 9,
      "outputs": [
        {
          "output_type": "execute_result",
          "data": {
            "text/plain": [
              "DAY_OF_MONTH                 0\n",
              "DAY_OF_WEEK                  0\n",
              "OP_UNIQUE_CARRIER            0\n",
              "OP_CARRIER_AIRLINE_ID        0\n",
              "OP_CARRIER                   0\n",
              "TAIL_NUM                  2543\n",
              "OP_CARRIER_FL_NUM            0\n",
              "ORIGIN_AIRPORT_ID            0\n",
              "ORIGIN_AIRPORT_SEQ_ID        0\n",
              "ORIGIN                       0\n",
              "DEST_AIRPORT_ID              0\n",
              "DEST_AIRPORT_SEQ_ID          0\n",
              "DEST                         0\n",
              "DEP_TIME                 16352\n",
              "DEP_DEL15                16355\n",
              "DEP_TIME_BLK                 0\n",
              "ARR_TIME                 17061\n",
              "ARR_DEL15                18022\n",
              "CANCELLED                    0\n",
              "DIVERTED                     0\n",
              "DISTANCE                     0\n",
              "dtype: int64"
            ]
          },
          "metadata": {
            "tags": []
          },
          "execution_count": 9
        }
      ]
    },
    {
      "cell_type": "code",
      "metadata": {
        "id": "TKXIVDlLqAQO",
        "colab_type": "code",
        "colab": {
          "base_uri": "https://localhost:8080/",
          "height": 421
        },
        "outputId": "3fbfc911-4dde-427a-ea3a-b4a53bc8cdf0"
      },
      "source": [
        "df20.isna().sum()"
      ],
      "execution_count": 10,
      "outputs": [
        {
          "output_type": "execute_result",
          "data": {
            "text/plain": [
              "DAY_OF_MONTH                0\n",
              "DAY_OF_WEEK                 0\n",
              "OP_UNIQUE_CARRIER           0\n",
              "OP_CARRIER_AIRLINE_ID       0\n",
              "OP_CARRIER                  0\n",
              "TAIL_NUM                  698\n",
              "OP_CARRIER_FL_NUM           0\n",
              "ORIGIN_AIRPORT_ID           0\n",
              "ORIGIN_AIRPORT_SEQ_ID       0\n",
              "ORIGIN                      0\n",
              "DEST_AIRPORT_ID             0\n",
              "DEST_AIRPORT_SEQ_ID         0\n",
              "DEST                        0\n",
              "DEP_TIME                 6664\n",
              "DEP_DEL15                6699\n",
              "DEP_TIME_BLK                0\n",
              "ARR_TIME                 7075\n",
              "ARR_DEL15                8078\n",
              "CANCELLED                   0\n",
              "DIVERTED                    0\n",
              "DISTANCE                    0\n",
              "dtype: int64"
            ]
          },
          "metadata": {
            "tags": []
          },
          "execution_count": 10
        }
      ]
    },
    {
      "cell_type": "code",
      "metadata": {
        "id": "3d57JfEYfMY6",
        "colab_type": "code",
        "colab": {
          "base_uri": "https://localhost:8080/",
          "height": 35
        },
        "outputId": "92fd9efa-27eb-4333-8147-bf2f60d41562"
      },
      "source": [
        "# dropped NaN values in df\n",
        "df19 = df19.dropna()\n",
        "print(df19.shape)"
      ],
      "execution_count": 11,
      "outputs": [
        {
          "output_type": "stream",
          "text": [
            "(565963, 21)\n"
          ],
          "name": "stdout"
        }
      ]
    },
    {
      "cell_type": "code",
      "metadata": {
        "id": "kt_Kt_HEwxm3",
        "colab_type": "code",
        "colab": {
          "base_uri": "https://localhost:8080/",
          "height": 35
        },
        "outputId": "e6eecc64-ade2-4991-cef3-f4823772b170"
      },
      "source": [
        "# dropped NaN values in df\n",
        "df20 = df20.dropna()\n",
        "print(df20.shape)"
      ],
      "execution_count": 12,
      "outputs": [
        {
          "output_type": "stream",
          "text": [
            "(599268, 21)\n"
          ],
          "name": "stdout"
        }
      ]
    },
    {
      "cell_type": "code",
      "metadata": {
        "id": "L8ed4xywxXaC",
        "colab_type": "code",
        "colab": {
          "base_uri": "https://localhost:8080/",
          "height": 421
        },
        "outputId": "03d737a0-d647-4976-ddbc-70d49eee3293"
      },
      "source": [
        "# verifying if NaN values were dropped\n",
        "df19.isna().sum()"
      ],
      "execution_count": 13,
      "outputs": [
        {
          "output_type": "execute_result",
          "data": {
            "text/plain": [
              "DAY_OF_MONTH             0\n",
              "DAY_OF_WEEK              0\n",
              "OP_UNIQUE_CARRIER        0\n",
              "OP_CARRIER_AIRLINE_ID    0\n",
              "OP_CARRIER               0\n",
              "TAIL_NUM                 0\n",
              "OP_CARRIER_FL_NUM        0\n",
              "ORIGIN_AIRPORT_ID        0\n",
              "ORIGIN_AIRPORT_SEQ_ID    0\n",
              "ORIGIN                   0\n",
              "DEST_AIRPORT_ID          0\n",
              "DEST_AIRPORT_SEQ_ID      0\n",
              "DEST                     0\n",
              "DEP_TIME                 0\n",
              "DEP_DEL15                0\n",
              "DEP_TIME_BLK             0\n",
              "ARR_TIME                 0\n",
              "ARR_DEL15                0\n",
              "CANCELLED                0\n",
              "DIVERTED                 0\n",
              "DISTANCE                 0\n",
              "dtype: int64"
            ]
          },
          "metadata": {
            "tags": []
          },
          "execution_count": 13
        }
      ]
    },
    {
      "cell_type": "code",
      "metadata": {
        "id": "6ozMMhQjw3mP",
        "colab_type": "code",
        "colab": {
          "base_uri": "https://localhost:8080/",
          "height": 421
        },
        "outputId": "28dbc8dc-44f7-4904-b573-884917e4b551"
      },
      "source": [
        "df20.isna().sum()"
      ],
      "execution_count": 14,
      "outputs": [
        {
          "output_type": "execute_result",
          "data": {
            "text/plain": [
              "DAY_OF_MONTH             0\n",
              "DAY_OF_WEEK              0\n",
              "OP_UNIQUE_CARRIER        0\n",
              "OP_CARRIER_AIRLINE_ID    0\n",
              "OP_CARRIER               0\n",
              "TAIL_NUM                 0\n",
              "OP_CARRIER_FL_NUM        0\n",
              "ORIGIN_AIRPORT_ID        0\n",
              "ORIGIN_AIRPORT_SEQ_ID    0\n",
              "ORIGIN                   0\n",
              "DEST_AIRPORT_ID          0\n",
              "DEST_AIRPORT_SEQ_ID      0\n",
              "DEST                     0\n",
              "DEP_TIME                 0\n",
              "DEP_DEL15                0\n",
              "DEP_TIME_BLK             0\n",
              "ARR_TIME                 0\n",
              "ARR_DEL15                0\n",
              "CANCELLED                0\n",
              "DIVERTED                 0\n",
              "DISTANCE                 0\n",
              "dtype: int64"
            ]
          },
          "metadata": {
            "tags": []
          },
          "execution_count": 14
        }
      ]
    },
    {
      "cell_type": "code",
      "metadata": {
        "id": "f3vjnhpew8Mc",
        "colab_type": "code",
        "colab": {
          "base_uri": "https://localhost:8080/",
          "height": 421
        },
        "outputId": "dce3b737-c066-424c-ea29-dbb795e63835"
      },
      "source": [
        "# Number of Unique elements in df\n",
        "df19.nunique()"
      ],
      "execution_count": 15,
      "outputs": [
        {
          "output_type": "execute_result",
          "data": {
            "text/plain": [
              "DAY_OF_MONTH               31\n",
              "DAY_OF_WEEK                 7\n",
              "OP_UNIQUE_CARRIER          17\n",
              "OP_CARRIER_AIRLINE_ID      17\n",
              "OP_CARRIER                 17\n",
              "TAIL_NUM                 5441\n",
              "OP_CARRIER_FL_NUM        6833\n",
              "ORIGIN_AIRPORT_ID         346\n",
              "ORIGIN_AIRPORT_SEQ_ID     346\n",
              "ORIGIN                    346\n",
              "DEST_AIRPORT_ID           346\n",
              "DEST_AIRPORT_SEQ_ID       346\n",
              "DEST                      346\n",
              "DEP_TIME                 1438\n",
              "DEP_DEL15                   2\n",
              "DEP_TIME_BLK               19\n",
              "ARR_TIME                 1440\n",
              "ARR_DEL15                   2\n",
              "CANCELLED                   1\n",
              "DIVERTED                    1\n",
              "DISTANCE                 1451\n",
              "dtype: int64"
            ]
          },
          "metadata": {
            "tags": []
          },
          "execution_count": 15
        }
      ]
    },
    {
      "cell_type": "code",
      "metadata": {
        "id": "IOGbJQv0w8I-",
        "colab_type": "code",
        "colab": {
          "base_uri": "https://localhost:8080/",
          "height": 421
        },
        "outputId": "f1afa292-1fbf-4754-f088-81e2d5a63f6b"
      },
      "source": [
        "# Number of Unique elements in df\n",
        "df20.nunique()"
      ],
      "execution_count": 16,
      "outputs": [
        {
          "output_type": "execute_result",
          "data": {
            "text/plain": [
              "DAY_OF_MONTH               31\n",
              "DAY_OF_WEEK                 7\n",
              "OP_UNIQUE_CARRIER          17\n",
              "OP_CARRIER_AIRLINE_ID      17\n",
              "OP_CARRIER                 17\n",
              "TAIL_NUM                 5443\n",
              "OP_CARRIER_FL_NUM        6719\n",
              "ORIGIN_AIRPORT_ID         351\n",
              "ORIGIN_AIRPORT_SEQ_ID     351\n",
              "ORIGIN                    351\n",
              "DEST_AIRPORT_ID           350\n",
              "DEST_AIRPORT_SEQ_ID       350\n",
              "DEST                      350\n",
              "DEP_TIME                 1432\n",
              "DEP_DEL15                   2\n",
              "DEP_TIME_BLK               19\n",
              "ARR_TIME                 1440\n",
              "ARR_DEL15                   2\n",
              "CANCELLED                   1\n",
              "DIVERTED                    1\n",
              "DISTANCE                 1470\n",
              "dtype: int64"
            ]
          },
          "metadata": {
            "tags": []
          },
          "execution_count": 16
        }
      ]
    },
    {
      "cell_type": "code",
      "metadata": {
        "id": "Ng_N7yxGw8ER",
        "colab_type": "code",
        "colab": {
          "base_uri": "https://localhost:8080/",
          "height": 733
        },
        "outputId": "036722c5-4298-4d85-a1ab-d19a6b12e191"
      },
      "source": [
        "df19['ORIGIN'].unique()"
      ],
      "execution_count": 17,
      "outputs": [
        {
          "output_type": "execute_result",
          "data": {
            "text/plain": [
              "array(['GNV', 'MSP', 'DTW', 'TLH', 'ATL', 'DAY', 'JAN', 'LGA', 'JAX',\n",
              "       'BMI', 'CAK', 'PHL', 'JFK', 'AGS', 'LIT', 'IND', 'EYW', 'CAE',\n",
              "       'CWA', 'TRI', 'BOS', 'MGM', 'MDT', 'MKE', 'TVC', 'FSM', 'BHM',\n",
              "       'PIA', 'CVG', 'GTR', 'SDF', 'BNA', 'SAT', 'LFT', 'MSN', 'DSM',\n",
              "       'EVV', 'ABE', 'DCA', 'BWI', 'ILM', 'TYS', 'LEX', 'CLE', 'ELM',\n",
              "       'EWN', 'PHF', 'SHV', 'CSG', 'TUL', 'BDL', 'DFW', 'RIC', 'RAP',\n",
              "       'PIT', 'CRW', 'GPT', 'CHA', 'OMA', 'IAD', 'RDU', 'SAV', 'GRR',\n",
              "       'BTV', 'LAN', 'OAJ', 'AEX', 'CHO', 'CHS', 'HRL', 'ORF', 'MOT',\n",
              "       'HSV', 'MCO', 'BTR', 'LAX', 'ORD', 'PHX', 'MIA', 'CMH', 'SFO',\n",
              "       'SEA', 'STL', 'CLT', 'LAS', 'OAK', 'BUF', 'FLL', 'SJU', 'ALB',\n",
              "       'PWM', 'SMF', 'MHT', 'TPA', 'EGE', 'OGG', 'HNL', 'MSY', 'IAH',\n",
              "       'KOA', 'DEN', 'SAN', 'TUS', 'SJC', 'SNA', 'GRI', 'SLC', 'FAT',\n",
              "       'EWR', 'JAC', 'MCI', 'PNS', 'ELP', 'AUS', 'ABQ', 'PSP', 'MEM',\n",
              "       'PBI', 'PDX', 'ACT', 'ABI', 'DRT', 'GSO', 'BIL', 'AVP', 'CLL',\n",
              "       'CID', 'CRP', 'GRK', 'AZO', 'TYR', 'FAR', 'GSP', 'MFE', 'AMA',\n",
              "       'SWO', 'MTJ', 'LAW', 'XNA', 'CMI', 'MHK', 'SGF', 'AVL', 'AZA',\n",
              "       'PGD', 'SFB', 'SRQ', 'PIE', 'BLV', 'PBG', 'BLI', 'USA', 'SBN',\n",
              "       'BGR', 'FNT', 'IAG', 'IDA', 'BIS', 'GFK', 'PVD', 'MLB', 'TOL',\n",
              "       'MYR', 'MOB', 'HPN', 'FAY', 'SYR', 'ART', 'HVN', 'LGB', 'RNO',\n",
              "       'RSW', 'ROC', 'HOU', 'STX', 'ONT', 'SWF', 'DAB', 'BQN', 'PSE',\n",
              "       'ORH', 'STT', 'VPS', 'ICT', 'OKC', 'LBB', 'LRD', 'BRO', 'HOB',\n",
              "       'SBA', 'TTN', 'COS', 'PSM', 'ISP', 'BZN', 'LIH', 'ITO', 'ECP',\n",
              "       'HHH', 'LBE', 'ACY', 'FLG', 'ASE', 'HDN', 'RDM', 'YUM', 'GRB',\n",
              "       'GJT', 'FSD', 'FWA', 'ROW', 'ATW', 'BFL', 'EUG', 'SAF', 'MFR',\n",
              "       'JLN', 'SGU', 'CYS', 'MEI', 'PIB', 'BOI', 'DAL', 'BUR', 'STS',\n",
              "       'SBP', 'MRY', 'GEG', 'RST', 'VLD', 'MBS', 'SUN', 'PSC', 'MLI',\n",
              "       'FCA', 'DLH', 'ERI', 'DHN', 'ABY', 'BQK', 'MDW', 'GTF', 'LSE',\n",
              "       'ESC', 'CPR', 'SCE', 'HLN', 'LNK', 'ISN', 'MLU', 'MSO', 'ROA',\n",
              "       'CMX', 'EAU', 'LWB', 'SHD', 'MKG', 'HYS', 'SLN', 'EAR', 'UIN',\n",
              "       'CKB', 'RKS', 'PUB', 'PAH', 'CGI', 'VEL', 'CNY', 'LBL', 'BFF',\n",
              "       'SPI', 'DVL', 'JMS', 'LAR', 'PRC', 'GCC', 'LBF', 'ACV', 'RDD',\n",
              "       'OTH', 'MMH', 'MAF', 'COD', 'LWS', 'PIH', 'MQT', 'ABR', 'APN',\n",
              "       'PLN', 'BJI', 'BRD', 'BTM', 'CDC', 'CIU', 'EKO', 'IMT', 'TWF',\n",
              "       'HIB', 'RHI', 'BGM', 'ITH', 'INL', 'SJT', 'GGG', 'SUX', 'TXK',\n",
              "       'ALO', 'DBQ', 'ADQ', 'ANC', 'BET', 'BRW', 'SCC', 'FAI', 'KTN',\n",
              "       'JNU', 'WRG', 'PSG', 'SIT', 'OME', 'OTZ', 'LCH', 'LCK', 'HTS',\n",
              "       'GUC', 'SPS', 'COU', 'BPT', 'DRO', 'GUM', 'SPN', 'SCK', 'PVU',\n",
              "       'RFD', 'GCK', 'STC', 'SMX', 'YAK', 'CDV', 'ADK', 'HGR', 'OWB',\n",
              "       'OGS', 'PPG', 'OGD', 'LYH'], dtype=object)"
            ]
          },
          "metadata": {
            "tags": []
          },
          "execution_count": 17
        }
      ]
    },
    {
      "cell_type": "code",
      "metadata": {
        "id": "dnoWifDww8AX",
        "colab_type": "code",
        "colab": {
          "base_uri": "https://localhost:8080/",
          "height": 752
        },
        "outputId": "6cd95556-9e3d-4ea3-ef9e-d2b2f0a0d281"
      },
      "source": [
        "df20['ORIGIN'].unique()"
      ],
      "execution_count": 18,
      "outputs": [
        {
          "output_type": "execute_result",
          "data": {
            "text/plain": [
              "array(['ORD', 'TUL', 'EWR', 'BTR', 'RIC', 'OMA', 'IAH', 'DCA', 'CRP',\n",
              "       'LGA', 'MAF', 'OKC', 'LFT', 'JAX', 'COS', 'SBN', 'SAV', 'TYS',\n",
              "       'ELP', 'CVG', 'ORF', 'MCI', 'BRO', 'RDU', 'LEX', 'GRK', 'MLU',\n",
              "       'AVL', 'PIT', 'CLT', 'GPT', 'CLE', 'JAN', 'EYW', 'BNA', 'LBB',\n",
              "       'ERI', 'SGF', 'GSO', 'ROC', 'IND', 'LCH', 'BTV', 'BUF', 'DTW',\n",
              "       'GSP', 'FSD', 'MOB', 'HRL', 'MEM', 'STL', 'CMH', 'CAK', 'CHS',\n",
              "       'SHV', 'MFE', 'ICT', 'MSP', 'HDN', 'HSV', 'GRB', 'GRR', 'VPS',\n",
              "       'SAT', 'PNS', 'CRW', 'PWM', 'LIT', 'CLL', 'MSY', 'AMA', 'ABQ',\n",
              "       'LRD', 'MTJ', 'AEX', 'ALB', 'ATL', 'AUS', 'BDL', 'BHM', 'BOI',\n",
              "       'BOS', 'BUR', 'BWI', 'DAL', 'DEN', 'DSM', 'ECP', 'FLL', 'GEG',\n",
              "       'HNL', 'HOU', 'IAD', 'ISP', 'KOA', 'LAS', 'LAX', 'LGB', 'LIH',\n",
              "       'MCO', 'MDW', 'MHT', 'MKE', 'OAK', 'OGG', 'ONT', 'AZO', 'DFW',\n",
              "       'MIA', 'AVP', 'ABI', 'CMI', 'MLI', 'CHO', 'TRI', 'GCK', 'SDF',\n",
              "       'TVC', 'MSN', 'MQT', 'ROA', 'ALO', 'TXK', 'LSE', 'XNA', 'MHK',\n",
              "       'CID', 'ATW', 'SWO', 'SPS', 'FAR', 'TOL', 'RST', 'DBQ', 'SUX',\n",
              "       'PVD', 'JFK', 'TYR', 'SJT', 'DLH', 'LAN', 'BPT', 'BMI', 'CHA',\n",
              "       'MDT', 'JLN', 'DAY', 'ACT', 'MGM', 'CWA', 'GNV', 'GGG', 'TLH',\n",
              "       'GRI', 'CAE', 'MRY', 'ILM', 'SPI', 'FAY', 'AGS', 'SJU', 'PHL',\n",
              "       'TPA', 'SEA', 'STT', 'PBI', 'RSW', 'BQN', 'PDX', 'PHX', 'SFO',\n",
              "       'HPN', 'SLC', 'SYR', 'ORH', 'SJC', 'SAN', 'SMF', 'PSP', 'SNA',\n",
              "       'SBA', 'TUS', 'BZN', 'TTN', 'SRQ', 'BIL', 'FAT', 'HVN', 'HHH',\n",
              "       'MBS', 'ELM', 'MYR', 'PHF', 'FNT', 'RNO', 'DRO', 'FLG', 'BFL',\n",
              "       'RAP', 'STS', 'SAF', 'PIA', 'YUM', 'COU', 'OAJ', 'MLB', 'EWN',\n",
              "       'FWA', 'ABE', 'LYH', 'GUC', 'STX', 'ACY', 'PBG', 'IAG', 'LBE',\n",
              "       'EGE', 'MSO', 'DAB', 'ANC', 'FCA', 'FAI', 'BIS', 'JAC', 'SCE',\n",
              "       'LAW', 'EVV', 'FSM', 'GJT', 'ITO', 'BGR', 'RDM', 'SBP', 'EUG',\n",
              "       'ROW', 'MFR', 'PIB', 'CYS', 'SGU', 'MEI', 'ASE', 'BQK', 'GFK',\n",
              "       'PSC', 'ABY', 'GTF', 'TWF', 'MOT', 'SUN', 'IDA', 'VLD', 'LNK',\n",
              "       'GTR', 'XWA', 'HLN', 'DHN', 'EKO', 'INL', 'PIH', 'ITH', 'BGM',\n",
              "       'BRD', 'CPR', 'CDC', 'HIB', 'ABR', 'PLN', 'LWS', 'APN', 'ESC',\n",
              "       'IMT', 'BTM', 'BJI', 'RHI', 'SWF', 'DVL', 'JMS', 'CNY', 'MKG',\n",
              "       'HYS', 'SLN', 'GCC', 'CKB', 'RKS', 'OGS', 'LBL', 'PUB', 'EAR',\n",
              "       'EAU', 'UIN', 'VEL', 'LBF', 'LWB', 'SHD', 'BFF', 'CGI', 'ATY',\n",
              "       'CMX', 'SCK', 'LAR', 'PIR', 'PRC', 'COD', 'ACV', 'HOB', 'RDD',\n",
              "       'OTH', 'PAE', 'MMH', 'CSG', 'PGD', 'AZA', 'RFD', 'PVU', 'PIE',\n",
              "       'SFB', 'USA', 'SMX', 'HTS', 'BLI', 'BLV', 'DRT', 'PSE', 'ADQ',\n",
              "       'BET', 'BRW', 'SCC', 'KTN', 'JNU', 'SIT', 'PSG', 'WRG', 'OME',\n",
              "       'OTZ', 'ADK', 'GUM', 'SPN', 'LCK', 'HGR', 'CDV', 'YAK', 'PPG',\n",
              "       'CIU', 'PAH', 'BFM', 'PSM', 'OWB', 'OGD', 'STC', 'SHR', 'RIW'],\n",
              "      dtype=object)"
            ]
          },
          "metadata": {
            "tags": []
          },
          "execution_count": 18
        }
      ]
    },
    {
      "cell_type": "code",
      "metadata": {
        "id": "qVi1Pnixw77l",
        "colab_type": "code",
        "colab": {}
      },
      "source": [
        "df19['YEAR'] = 2019\n",
        "df20['YEAR'] = 2020"
      ],
      "execution_count": 19,
      "outputs": []
    },
    {
      "cell_type": "code",
      "metadata": {
        "id": "ezNlnFkQw74W",
        "colab_type": "code",
        "colab": {
          "base_uri": "https://localhost:8080/",
          "height": 72
        },
        "outputId": "b70891fe-19ab-44b5-bf11-41d5bf029b5e"
      },
      "source": [
        "df19.columns == df20.columns"
      ],
      "execution_count": 20,
      "outputs": [
        {
          "output_type": "execute_result",
          "data": {
            "text/plain": [
              "array([ True,  True,  True,  True,  True,  True,  True,  True,  True,\n",
              "        True,  True,  True,  True,  True,  True,  True,  True,  True,\n",
              "        True,  True,  True,  True])"
            ]
          },
          "metadata": {
            "tags": []
          },
          "execution_count": 20
        }
      ]
    },
    {
      "cell_type": "code",
      "metadata": {
        "id": "hDGVTzI8w70o",
        "colab_type": "code",
        "colab": {}
      },
      "source": [
        "df = pd.concat([df19, df20])"
      ],
      "execution_count": 21,
      "outputs": []
    },
    {
      "cell_type": "code",
      "metadata": {
        "id": "IR-HDN8Ow7yB",
        "colab_type": "code",
        "colab": {
          "base_uri": "https://localhost:8080/",
          "height": 146
        },
        "outputId": "3d6a58d6-6e57-4a83-dd94-5b1c7df7b172"
      },
      "source": [
        "df.columns"
      ],
      "execution_count": 22,
      "outputs": [
        {
          "output_type": "execute_result",
          "data": {
            "text/plain": [
              "Index(['DAY_OF_MONTH', 'DAY_OF_WEEK', 'OP_UNIQUE_CARRIER',\n",
              "       'OP_CARRIER_AIRLINE_ID', 'OP_CARRIER', 'TAIL_NUM', 'OP_CARRIER_FL_NUM',\n",
              "       'ORIGIN_AIRPORT_ID', 'ORIGIN_AIRPORT_SEQ_ID', 'ORIGIN',\n",
              "       'DEST_AIRPORT_ID', 'DEST_AIRPORT_SEQ_ID', 'DEST', 'DEP_TIME',\n",
              "       'DEP_DEL15', 'DEP_TIME_BLK', 'ARR_TIME', 'ARR_DEL15', 'CANCELLED',\n",
              "       'DIVERTED', 'DISTANCE', 'YEAR'],\n",
              "      dtype='object')"
            ]
          },
          "metadata": {
            "tags": []
          },
          "execution_count": 22
        }
      ]
    },
    {
      "cell_type": "code",
      "metadata": {
        "id": "86SPlwIVw7uO",
        "colab_type": "code",
        "colab": {
          "base_uri": "https://localhost:8080/",
          "height": 54
        },
        "outputId": "a9b592b0-33ab-4fcd-a117-254b58186ba0"
      },
      "source": [
        "df['OP_UNIQUE_CARRIER'].unique()"
      ],
      "execution_count": 23,
      "outputs": [
        {
          "output_type": "execute_result",
          "data": {
            "text/plain": [
              "array(['9E', 'AA', 'MQ', 'G4', 'OH', 'B6', 'YV', 'EV', 'F9', 'YX', 'HA',\n",
              "       'NK', 'OO', 'WN', 'AS', 'UA', 'DL'], dtype=object)"
            ]
          },
          "metadata": {
            "tags": []
          },
          "execution_count": 23
        }
      ]
    },
    {
      "cell_type": "code",
      "metadata": {
        "id": "-lZf5DHQw7qs",
        "colab_type": "code",
        "colab": {
          "base_uri": "https://localhost:8080/",
          "height": 54
        },
        "outputId": "4e17a390-63ec-4a28-cde2-6f110426a555"
      },
      "source": [
        "df['OP_CARRIER_AIRLINE_ID'].unique()"
      ],
      "execution_count": 24,
      "outputs": [
        {
          "output_type": "execute_result",
          "data": {
            "text/plain": [
              "array([20363, 19805, 20398, 20368, 20397, 20409, 20378, 20366, 20436,\n",
              "       20452, 19690, 20416, 20304, 19393, 19930, 19977, 19790])"
            ]
          },
          "metadata": {
            "tags": []
          },
          "execution_count": 24
        }
      ]
    },
    {
      "cell_type": "code",
      "metadata": {
        "id": "nxvlkgcaw7mn",
        "colab_type": "code",
        "colab": {
          "base_uri": "https://localhost:8080/",
          "height": 54
        },
        "outputId": "a6a8de8d-0981-4590-ddb7-22b9b976a4b8"
      },
      "source": [
        "df['OP_CARRIER'].unique()"
      ],
      "execution_count": 25,
      "outputs": [
        {
          "output_type": "execute_result",
          "data": {
            "text/plain": [
              "array(['9E', 'AA', 'MQ', 'G4', 'OH', 'B6', 'YV', 'EV', 'F9', 'YX', 'HA',\n",
              "       'NK', 'OO', 'WN', 'AS', 'UA', 'DL'], dtype=object)"
            ]
          },
          "metadata": {
            "tags": []
          },
          "execution_count": 25
        }
      ]
    },
    {
      "cell_type": "code",
      "metadata": {
        "id": "rMuOkrzbw7ia",
        "colab_type": "code",
        "colab": {
          "base_uri": "https://localhost:8080/",
          "height": 35
        },
        "outputId": "030be711-28b1-41ba-df2d-8a2a38d9e98b"
      },
      "source": [
        "df['DIVERTED'].unique()"
      ],
      "execution_count": 26,
      "outputs": [
        {
          "output_type": "execute_result",
          "data": {
            "text/plain": [
              "array([0.])"
            ]
          },
          "metadata": {
            "tags": []
          },
          "execution_count": 26
        }
      ]
    },
    {
      "cell_type": "code",
      "metadata": {
        "id": "v1RudMxLxfTi",
        "colab_type": "code",
        "colab": {}
      },
      "source": [
        "#Remove columns which won't be used\n",
        "df_red = df.drop([ 'OP_CARRIER_AIRLINE_ID', 'OP_CARRIER', 'TAIL_NUM', 'OP_CARRIER_FL_NUM',\n",
        "       'ORIGIN_AIRPORT_ID', 'ORIGIN_AIRPORT_SEQ_ID', 'DEST_AIRPORT_ID', 'DEST_AIRPORT_SEQ_ID', 'DEP_TIME',\n",
        "       'CANCELLED','ARR_TIME',\n",
        "       'DIVERTED'], axis = 1)"
      ],
      "execution_count": 27,
      "outputs": []
    },
    {
      "cell_type": "code",
      "metadata": {
        "id": "lgXDQm6exe-F",
        "colab_type": "code",
        "colab": {
          "base_uri": "https://localhost:8080/",
          "height": 206
        },
        "outputId": "9a313946-aa54-4c46-cdc0-299e7658e821"
      },
      "source": [
        "df_red.head()"
      ],
      "execution_count": 28,
      "outputs": [
        {
          "output_type": "execute_result",
          "data": {
            "text/html": [
              "<div>\n",
              "<style scoped>\n",
              "    .dataframe tbody tr th:only-of-type {\n",
              "        vertical-align: middle;\n",
              "    }\n",
              "\n",
              "    .dataframe tbody tr th {\n",
              "        vertical-align: top;\n",
              "    }\n",
              "\n",
              "    .dataframe thead th {\n",
              "        text-align: right;\n",
              "    }\n",
              "</style>\n",
              "<table border=\"1\" class=\"dataframe\">\n",
              "  <thead>\n",
              "    <tr style=\"text-align: right;\">\n",
              "      <th></th>\n",
              "      <th>DAY_OF_MONTH</th>\n",
              "      <th>DAY_OF_WEEK</th>\n",
              "      <th>OP_UNIQUE_CARRIER</th>\n",
              "      <th>ORIGIN</th>\n",
              "      <th>DEST</th>\n",
              "      <th>DEP_DEL15</th>\n",
              "      <th>DEP_TIME_BLK</th>\n",
              "      <th>ARR_DEL15</th>\n",
              "      <th>DISTANCE</th>\n",
              "      <th>YEAR</th>\n",
              "    </tr>\n",
              "  </thead>\n",
              "  <tbody>\n",
              "    <tr>\n",
              "      <th>0</th>\n",
              "      <td>1</td>\n",
              "      <td>2</td>\n",
              "      <td>9E</td>\n",
              "      <td>GNV</td>\n",
              "      <td>ATL</td>\n",
              "      <td>0.0</td>\n",
              "      <td>0600-0659</td>\n",
              "      <td>0.0</td>\n",
              "      <td>300.0</td>\n",
              "      <td>2019</td>\n",
              "    </tr>\n",
              "    <tr>\n",
              "      <th>1</th>\n",
              "      <td>1</td>\n",
              "      <td>2</td>\n",
              "      <td>9E</td>\n",
              "      <td>MSP</td>\n",
              "      <td>CVG</td>\n",
              "      <td>0.0</td>\n",
              "      <td>1400-1459</td>\n",
              "      <td>0.0</td>\n",
              "      <td>596.0</td>\n",
              "      <td>2019</td>\n",
              "    </tr>\n",
              "    <tr>\n",
              "      <th>2</th>\n",
              "      <td>1</td>\n",
              "      <td>2</td>\n",
              "      <td>9E</td>\n",
              "      <td>DTW</td>\n",
              "      <td>CVG</td>\n",
              "      <td>0.0</td>\n",
              "      <td>1200-1259</td>\n",
              "      <td>0.0</td>\n",
              "      <td>229.0</td>\n",
              "      <td>2019</td>\n",
              "    </tr>\n",
              "    <tr>\n",
              "      <th>3</th>\n",
              "      <td>1</td>\n",
              "      <td>2</td>\n",
              "      <td>9E</td>\n",
              "      <td>TLH</td>\n",
              "      <td>ATL</td>\n",
              "      <td>0.0</td>\n",
              "      <td>1500-1559</td>\n",
              "      <td>0.0</td>\n",
              "      <td>223.0</td>\n",
              "      <td>2019</td>\n",
              "    </tr>\n",
              "    <tr>\n",
              "      <th>4</th>\n",
              "      <td>1</td>\n",
              "      <td>2</td>\n",
              "      <td>9E</td>\n",
              "      <td>ATL</td>\n",
              "      <td>FSM</td>\n",
              "      <td>0.0</td>\n",
              "      <td>1900-1959</td>\n",
              "      <td>0.0</td>\n",
              "      <td>579.0</td>\n",
              "      <td>2019</td>\n",
              "    </tr>\n",
              "  </tbody>\n",
              "</table>\n",
              "</div>"
            ],
            "text/plain": [
              "   DAY_OF_MONTH  DAY_OF_WEEK OP_UNIQUE_CARRIER  ... ARR_DEL15 DISTANCE  YEAR\n",
              "0             1            2                9E  ...       0.0    300.0  2019\n",
              "1             1            2                9E  ...       0.0    596.0  2019\n",
              "2             1            2                9E  ...       0.0    229.0  2019\n",
              "3             1            2                9E  ...       0.0    223.0  2019\n",
              "4             1            2                9E  ...       0.0    579.0  2019\n",
              "\n",
              "[5 rows x 10 columns]"
            ]
          },
          "metadata": {
            "tags": []
          },
          "execution_count": 28
        }
      ]
    },
    {
      "cell_type": "code",
      "metadata": {
        "id": "U-W0Abbvxevt",
        "colab_type": "code",
        "colab": {
          "base_uri": "https://localhost:8080/",
          "height": 379
        },
        "outputId": "a1c1f0fa-b901-4def-9e0c-fc84707880c1"
      },
      "source": [
        "#all delayed flights by weekday\n",
        "sb.countplot(x = df_red['ARR_DEL15'], hue = df_red['DAY_OF_WEEK'])"
      ],
      "execution_count": 29,
      "outputs": [
        {
          "output_type": "execute_result",
          "data": {
            "text/plain": [
              "<matplotlib.axes._subplots.AxesSubplot at 0x7fce95492710>"
            ]
          },
          "metadata": {
            "tags": []
          },
          "execution_count": 29
        },
        {
          "output_type": "display_data",
          "data": {
            "image/png": "[encoded data removed]",
            "text/plain": [
              "<Figure size 576x396 with 1 Axes>"
            ]
          },
          "metadata": {
            "tags": []
          }
        }
      ]
    },
    {
      "cell_type": "code",
      "metadata": {
        "id": "ix79Mem8xea0",
        "colab_type": "code",
        "colab": {
          "base_uri": "https://localhost:8080/",
          "height": 379
        },
        "outputId": "8c57c56a-586a-4f0a-ddb9-627b6381ad61"
      },
      "source": [
        "#all delayed flights by year\n",
        "sb.countplot(x = df_red['ARR_DEL15'], hue = df_red['YEAR'])"
      ],
      "execution_count": 30,
      "outputs": [
        {
          "output_type": "execute_result",
          "data": {
            "text/plain": [
              "<matplotlib.axes._subplots.AxesSubplot at 0x7fce8e4d1b70>"
            ]
          },
          "metadata": {
            "tags": []
          },
          "execution_count": 30
        },
        {
          "output_type": "display_data",
          "data": {
            "image/png": "[encoded data removed]",
            "text/plain": [
              "<Figure size 576x396 with 1 Axes>"
            ]
          },
          "metadata": {
            "tags": []
          }
        }
      ]
    },
    {
      "cell_type": "code",
      "metadata": {
        "id": "kO5KFlxXxcgo",
        "colab_type": "code",
        "colab": {
          "base_uri": "https://localhost:8080/",
          "height": 334
        },
        "outputId": "e4d6a124-e856-47c7-c868-e08414509dce"
      },
      "source": [
        "#all flights per day\n",
        "f, ax = plt.subplots()\n",
        "sb.countplot(x = df_red['DAY_OF_WEEK'])\n",
        "f.set_size_inches(4,5)"
      ],
      "execution_count": 31,
      "outputs": [
        {
          "output_type": "display_data",
          "data": {
            "image/png": "[encoded data removed]",
            "text/plain": [
              "<Figure size 288x360 with 1 Axes>"
            ]
          },
          "metadata": {
            "tags": []
          }
        }
      ]
    },
    {
      "cell_type": "markdown",
      "metadata": {
        "id": "nAjeYKADx7WT",
        "colab_type": "text"
      },
      "source": [
        "Seems like we need to normalize the delayed flights per day to the total number of flights per day"
      ]
    },
    {
      "cell_type": "code",
      "metadata": {
        "id": "Cftr1v-Vw7Un",
        "colab_type": "code",
        "colab": {
          "base_uri": "https://localhost:8080/",
          "height": 429
        },
        "outputId": "0f7eefa3-9959-45dd-f207-a06da431f9aa"
      },
      "source": [
        "from matplotlib.pyplot import figure\n",
        "figure(num=None, figsize=(8, 6))\n",
        "plt.bar(x = df_red['DAY_OF_WEEK'].unique(), height = df_red.groupby(['DAY_OF_WEEK']).mean()['ARR_DEL15'])\n",
        "plt.ylim([0.1, 0.2])\n",
        "plt.xlabel('Day of week')\n",
        "plt.ylabel('Fraction of delayed flights')\n",
        "figure(num=None, figsize=(8, 6))"
      ],
      "execution_count": 32,
      "outputs": [
        {
          "output_type": "execute_result",
          "data": {
            "text/plain": [
              "<Figure size 576x432 with 0 Axes>"
            ]
          },
          "metadata": {
            "tags": []
          },
          "execution_count": 32
        },
        {
          "output_type": "display_data",
          "data": {
            "image/png": "[encoded data removed]",
            "text/plain": [
              "<Figure size 576x432 with 1 Axes>"
            ]
          },
          "metadata": {
            "tags": []
          }
        },
        {
          "output_type": "display_data",
          "data": {
            "text/plain": [
              "<Figure size 576x432 with 0 Axes>"
            ]
          },
          "metadata": {
            "tags": []
          }
        }
      ]
    },
    {
      "cell_type": "code",
      "metadata": {
        "id": "E03lL8Axx-d3",
        "colab_type": "code",
        "colab": {
          "base_uri": "https://localhost:8080/",
          "height": 410
        },
        "outputId": "9bb75c6b-f506-4e4e-e9d6-e0e1c8780548"
      },
      "source": [
        "figure(num=None, figsize=(18, 6))\n",
        "plt.bar(x = df_red['DAY_OF_MONTH'].unique(), height = df_red.groupby(['DAY_OF_MONTH']).mean()['ARR_DEL15'])\n",
        "plt.ylim([0.05, 0.25])\n",
        "plt.xlabel('Day of month')\n",
        "plt.ylabel('Fraction of delayed flights')"
      ],
      "execution_count": 33,
      "outputs": [
        {
          "output_type": "execute_result",
          "data": {
            "text/plain": [
              "Text(0, 0.5, 'Fraction of delayed flights')"
            ]
          },
          "metadata": {
            "tags": []
          },
          "execution_count": 33
        },
        {
          "output_type": "display_data",
          "data": {
            "image/png": "[encoded data removed]",
            "text/plain": [
              "<Figure size 1296x432 with 1 Axes>"
            ]
          },
          "metadata": {
            "tags": []
          }
        }
      ]
    },
    {
      "cell_type": "code",
      "metadata": {
        "id": "C-r09zXNx-QP",
        "colab_type": "code",
        "colab": {
          "base_uri": "https://localhost:8080/",
          "height": 410
        },
        "outputId": "ac647f64-7724-417a-9f05-9bf4c5ee8314"
      },
      "source": [
        "figure(num=None, figsize=(18, 6))\n",
        "plt.bar(x = df_red['OP_UNIQUE_CARRIER'].unique(), height = df_red.groupby(['OP_UNIQUE_CARRIER']).mean()['ARR_DEL15'])\n",
        "plt.ylim([0.05, 0.25])\n",
        "plt.xlabel('Carrier')\n",
        "plt.ylabel('Fraction of delayed flights')"
      ],
      "execution_count": 34,
      "outputs": [
        {
          "output_type": "execute_result",
          "data": {
            "text/plain": [
              "Text(0, 0.5, 'Fraction of delayed flights')"
            ]
          },
          "metadata": {
            "tags": []
          },
          "execution_count": 34
        },
        {
          "output_type": "display_data",
          "data": {
            "image/png": "[encoded data removed]",
            "text/plain": [
              "<Figure size 1296x432 with 1 Axes>"
            ]
          },
          "metadata": {
            "tags": []
          }
        }
      ]
    },
    {
      "cell_type": "code",
      "metadata": {
        "id": "uM3FLzx_x-Ct",
        "colab_type": "code",
        "colab": {
          "base_uri": "https://localhost:8080/",
          "height": 410
        },
        "outputId": "e4b154bf-c66f-4595-ae13-6fbd340b7e6c"
      },
      "source": [
        "figure(num=None, figsize=(24, 6))\n",
        "plt.bar(x = df_red['DEP_TIME_BLK'].unique(), height = df_red.groupby(['DEP_TIME_BLK']).mean()['ARR_DEL15'])\n",
        "plt.ylim([0.05, 0.2])\n",
        "plt.xlabel('Departure Time')\n",
        "plt.ylabel('Fraction of delayed flights')"
      ],
      "execution_count": 35,
      "outputs": [
        {
          "output_type": "execute_result",
          "data": {
            "text/plain": [
              "Text(0, 0.5, 'Fraction of delayed flights')"
            ]
          },
          "metadata": {
            "tags": []
          },
          "execution_count": 35
        },
        {
          "output_type": "display_data",
          "data": {
            "image/png": "[encoded data removed]",
            "text/plain": [
              "<Figure size 1728x432 with 1 Axes>"
            ]
          },
          "metadata": {
            "tags": []
          }
        }
      ]
    },
    {
      "cell_type": "code",
      "metadata": {
        "id": "D8z2IAO8x92U",
        "colab_type": "code",
        "colab": {
          "base_uri": "https://localhost:8080/",
          "height": 403
        },
        "outputId": "40bb47ee-ff50-4934-fc49-b1959fb1c929"
      },
      "source": [
        "df_red.groupby(['DEP_TIME_BLK']).mean()['ARR_DEL15'].sort_values()"
      ],
      "execution_count": 36,
      "outputs": [
        {
          "output_type": "execute_result",
          "data": {
            "text/plain": [
              "DEP_TIME_BLK\n",
              "0600-0659    0.098793\n",
              "0001-0559    0.104384\n",
              "0700-0759    0.115250\n",
              "0800-0859    0.130838\n",
              "0900-0959    0.134258\n",
              "2300-2359    0.148177\n",
              "1100-1159    0.152182\n",
              "1000-1059    0.152312\n",
              "1200-1259    0.160066\n",
              "2200-2259    0.160995\n",
              "1300-1359    0.166544\n",
              "2100-2159    0.179697\n",
              "1400-1459    0.180077\n",
              "1500-1559    0.180803\n",
              "1600-1659    0.190362\n",
              "1700-1759    0.197569\n",
              "2000-2059    0.197690\n",
              "1900-1959    0.199627\n",
              "1800-1859    0.206462\n",
              "Name: ARR_DEL15, dtype: float64"
            ]
          },
          "metadata": {
            "tags": []
          },
          "execution_count": 36
        }
      ]
    },
    {
      "cell_type": "code",
      "metadata": {
        "id": "gWkVEZVSx9n_",
        "colab_type": "code",
        "colab": {
          "base_uri": "https://localhost:8080/",
          "height": 256
        },
        "outputId": "918e724f-e136-4954-8912-871c03d26e59"
      },
      "source": [
        "#Lowest and Highest ratio of delayed flights by Destination\n",
        "df_red.groupby(['DEST']).mean()['ARR_DEL15'].sort_values()"
      ],
      "execution_count": 37,
      "outputs": [
        {
          "output_type": "execute_result",
          "data": {
            "text/plain": [
              "DEST\n",
              "LWS    0.047244\n",
              "TWF    0.050847\n",
              "BTM    0.051724\n",
              "CPR    0.052326\n",
              "ATY    0.053571\n",
              "         ...   \n",
              "OGS    0.338983\n",
              "RIW    0.340000\n",
              "ASE    0.343266\n",
              "OGD    0.352941\n",
              "MKG    0.353535\n",
              "Name: ARR_DEL15, Length: 353, dtype: float64"
            ]
          },
          "metadata": {
            "tags": []
          },
          "execution_count": 37
        }
      ]
    },
    {
      "cell_type": "code",
      "metadata": {
        "id": "xLguuh32ykKt",
        "colab_type": "code",
        "colab": {
          "base_uri": "https://localhost:8080/",
          "height": 256
        },
        "outputId": "c5f09242-b007-4f4c-e14d-c2bc110a2bb8"
      },
      "source": [
        "#Lowest and Highest ratio of delfayed flights by Origin\n",
        "df_red.groupby(['ORIGIN']).mean()['ARR_DEL15'].sort_values()"
      ],
      "execution_count": 38,
      "outputs": [
        {
          "output_type": "execute_result",
          "data": {
            "text/plain": [
              "ORIGIN\n",
              "CPR    0.028902\n",
              "LWS    0.031250\n",
              "BTM    0.051724\n",
              "PIR    0.053571\n",
              "ITO    0.060217\n",
              "         ...   \n",
              "ASE    0.359069\n",
              "HGR    0.363636\n",
              "PSM    0.372549\n",
              "OGD    0.411765\n",
              "SHR    0.486486\n",
              "Name: ARR_DEL15, Length: 353, dtype: float64"
            ]
          },
          "metadata": {
            "tags": []
          },
          "execution_count": 38
        }
      ]
    },
    {
      "cell_type": "code",
      "metadata": {
        "id": "Eqwnt2StykF0",
        "colab_type": "code",
        "colab": {
          "base_uri": "https://localhost:8080/",
          "height": 379
        },
        "outputId": "9f338dd2-2297-44f8-a3da-d25003a2dfd0"
      },
      "source": [
        "#Check by delay in departure\n",
        "sb.countplot(x = df_red['ARR_DEL15'], hue = df_red['DEP_DEL15'])"
      ],
      "execution_count": 39,
      "outputs": [
        {
          "output_type": "execute_result",
          "data": {
            "text/plain": [
              "<matplotlib.axes._subplots.AxesSubplot at 0x7fce94605da0>"
            ]
          },
          "metadata": {
            "tags": []
          },
          "execution_count": 39
        },
        {
          "output_type": "display_data",
          "data": {
            "image/png": "[encoded data removed]",
            "text/plain": [
              "<Figure size 576x396 with 1 Axes>"
            ]
          },
          "metadata": {
            "tags": []
          }
        }
      ]
    },
    {
      "cell_type": "markdown",
      "metadata": {
        "id": "c4ONFxv5zCMO",
        "colab_type": "text"
      },
      "source": [
        "As expected flights that leave late also arrive late"
      ]
    },
    {
      "cell_type": "code",
      "metadata": {
        "id": "yXKFioW4yj_j",
        "colab_type": "code",
        "colab": {
          "base_uri": "https://localhost:8080/",
          "height": 379
        },
        "outputId": "d1238f20-2dcf-4fd9-ed26-d560692b0cea"
      },
      "source": [
        "sb.boxplot('DEP_DEL15', 'DISTANCE', data=df_red, orient='v')"
      ],
      "execution_count": 40,
      "outputs": [
        {
          "output_type": "execute_result",
          "data": {
            "text/plain": [
              "<matplotlib.axes._subplots.AxesSubplot at 0x7fce94599a90>"
            ]
          },
          "metadata": {
            "tags": []
          },
          "execution_count": 40
        },
        {
          "output_type": "display_data",
          "data": {
            "image/png": "[encoded data removed]",
            "text/plain": [
              "<Figure size 576x396 with 1 Axes>"
            ]
          },
          "metadata": {
            "tags": []
          }
        }
      ]
    },
    {
      "cell_type": "code",
      "metadata": {
        "id": "7THRArmryj71",
        "colab_type": "code",
        "colab": {
          "base_uri": "https://localhost:8080/",
          "height": 90
        },
        "outputId": "fe68c44d-d7a2-434a-c8c9-b378165705f7"
      },
      "source": [
        "df_red.groupby(['DEP_DEL15']).mean()['DISTANCE']"
      ],
      "execution_count": 41,
      "outputs": [
        {
          "output_type": "execute_result",
          "data": {
            "text/plain": [
              "DEP_DEL15\n",
              "0.0    797.872948\n",
              "1.0    818.171497\n",
              "Name: DISTANCE, dtype: float64"
            ]
          },
          "metadata": {
            "tags": []
          },
          "execution_count": 41
        }
      ]
    },
    {
      "cell_type": "code",
      "metadata": {
        "id": "chGe5ZSnyj3d",
        "colab_type": "code",
        "colab": {
          "base_uri": "https://localhost:8080/",
          "height": 90
        },
        "outputId": "bd8972c6-4389-4e9a-f410-ca2d5280cfbe"
      },
      "source": [
        "df_red.groupby(['DEP_DEL15']).median()['DISTANCE']"
      ],
      "execution_count": 42,
      "outputs": [
        {
          "output_type": "execute_result",
          "data": {
            "text/plain": [
              "DEP_DEL15\n",
              "0.0    637.0\n",
              "1.0    672.0\n",
              "Name: DISTANCE, dtype: float64"
            ]
          },
          "metadata": {
            "tags": []
          },
          "execution_count": 42
        }
      ]
    },
    {
      "cell_type": "markdown",
      "metadata": {
        "id": "-253aEoKzSQZ",
        "colab_type": "text"
      },
      "source": [
        "There seems to be a slightly higher distance traveled for flights that were delayed. Let us do a t-test to check whether this difference is statistically significant"
      ]
    },
    {
      "cell_type": "code",
      "metadata": {
        "id": "j3AaA3pbyjyb",
        "colab_type": "code",
        "colab": {
          "base_uri": "https://localhost:8080/",
          "height": 35
        },
        "outputId": "eeb6e4cd-1977-4fef-b2d6-b205a246a6f5"
      },
      "source": [
        "stats.ttest_ind(df_red[df_red['ARR_DEL15'] == 1]['DISTANCE'], df_red[df_red['ARR_DEL15'] == 0]['DISTANCE'], equal_var=False)"
      ],
      "execution_count": 43,
      "outputs": [
        {
          "output_type": "execute_result",
          "data": {
            "text/plain": [
              "Ttest_indResult(statistic=7.442124854921654, pvalue=9.937754132365237e-14)"
            ]
          },
          "metadata": {
            "tags": []
          },
          "execution_count": 43
        }
      ]
    },
    {
      "cell_type": "markdown",
      "metadata": {
        "id": "_cYYHKv5zYhZ",
        "colab_type": "text"
      },
      "source": [
        "It is significant!"
      ]
    },
    {
      "cell_type": "code",
      "metadata": {
        "id": "NsWfvc1cyjt9",
        "colab_type": "code",
        "colab": {
          "base_uri": "https://localhost:8080/",
          "height": 206
        },
        "outputId": "f0445201-05d0-415a-b4bf-4048344f5e71"
      },
      "source": [
        "df_red = df_red.drop(['YEAR'], axis = 1)\n",
        "df_red.head()"
      ],
      "execution_count": 44,
      "outputs": [
        {
          "output_type": "execute_result",
          "data": {
            "text/html": [
              "<div>\n",
              "<style scoped>\n",
              "    .dataframe tbody tr th:only-of-type {\n",
              "        vertical-align: middle;\n",
              "    }\n",
              "\n",
              "    .dataframe tbody tr th {\n",
              "        vertical-align: top;\n",
              "    }\n",
              "\n",
              "    .dataframe thead th {\n",
              "        text-align: right;\n",
              "    }\n",
              "</style>\n",
              "<table border=\"1\" class=\"dataframe\">\n",
              "  <thead>\n",
              "    <tr style=\"text-align: right;\">\n",
              "      <th></th>\n",
              "      <th>DAY_OF_MONTH</th>\n",
              "      <th>DAY_OF_WEEK</th>\n",
              "      <th>OP_UNIQUE_CARRIER</th>\n",
              "      <th>ORIGIN</th>\n",
              "      <th>DEST</th>\n",
              "      <th>DEP_DEL15</th>\n",
              "      <th>DEP_TIME_BLK</th>\n",
              "      <th>ARR_DEL15</th>\n",
              "      <th>DISTANCE</th>\n",
              "    </tr>\n",
              "  </thead>\n",
              "  <tbody>\n",
              "    <tr>\n",
              "      <th>0</th>\n",
              "      <td>1</td>\n",
              "      <td>2</td>\n",
              "      <td>9E</td>\n",
              "      <td>GNV</td>\n",
              "      <td>ATL</td>\n",
              "      <td>0.0</td>\n",
              "      <td>0600-0659</td>\n",
              "      <td>0.0</td>\n",
              "      <td>300.0</td>\n",
              "    </tr>\n",
              "    <tr>\n",
              "      <th>1</th>\n",
              "      <td>1</td>\n",
              "      <td>2</td>\n",
              "      <td>9E</td>\n",
              "      <td>MSP</td>\n",
              "      <td>CVG</td>\n",
              "      <td>0.0</td>\n",
              "      <td>1400-1459</td>\n",
              "      <td>0.0</td>\n",
              "      <td>596.0</td>\n",
              "    </tr>\n",
              "    <tr>\n",
              "      <th>2</th>\n",
              "      <td>1</td>\n",
              "      <td>2</td>\n",
              "      <td>9E</td>\n",
              "      <td>DTW</td>\n",
              "      <td>CVG</td>\n",
              "      <td>0.0</td>\n",
              "      <td>1200-1259</td>\n",
              "      <td>0.0</td>\n",
              "      <td>229.0</td>\n",
              "    </tr>\n",
              "    <tr>\n",
              "      <th>3</th>\n",
              "      <td>1</td>\n",
              "      <td>2</td>\n",
              "      <td>9E</td>\n",
              "      <td>TLH</td>\n",
              "      <td>ATL</td>\n",
              "      <td>0.0</td>\n",
              "      <td>1500-1559</td>\n",
              "      <td>0.0</td>\n",
              "      <td>223.0</td>\n",
              "    </tr>\n",
              "    <tr>\n",
              "      <th>4</th>\n",
              "      <td>1</td>\n",
              "      <td>2</td>\n",
              "      <td>9E</td>\n",
              "      <td>ATL</td>\n",
              "      <td>FSM</td>\n",
              "      <td>0.0</td>\n",
              "      <td>1900-1959</td>\n",
              "      <td>0.0</td>\n",
              "      <td>579.0</td>\n",
              "    </tr>\n",
              "  </tbody>\n",
              "</table>\n",
              "</div>"
            ],
            "text/plain": [
              "   DAY_OF_MONTH  DAY_OF_WEEK  ... ARR_DEL15 DISTANCE\n",
              "0             1            2  ...       0.0    300.0\n",
              "1             1            2  ...       0.0    596.0\n",
              "2             1            2  ...       0.0    229.0\n",
              "3             1            2  ...       0.0    223.0\n",
              "4             1            2  ...       0.0    579.0\n",
              "\n",
              "[5 rows x 9 columns]"
            ]
          },
          "metadata": {
            "tags": []
          },
          "execution_count": 44
        }
      ]
    },
    {
      "cell_type": "code",
      "metadata": {
        "id": "MLrpKBK9DCPR",
        "colab_type": "code",
        "colab": {
          "base_uri": "https://localhost:8080/",
          "height": 542
        },
        "outputId": "8e7f64ac-422c-4282-d9db-ed6fdd77ec27"
      },
      "source": [
        "values = [df_red['DEP_DEL15'].value_counts()[0], df_red['DEP_DEL15'].value_counts()[1]]\n",
        "labels = [\"Not Delayed\", \"Delayed by (>15 minutes)\"]\n",
        "colors = ['bisque','red']\n",
        "values_arr = [df_red['ARR_DEL15'].value_counts()[0],df_red['ARR_DEL15'].value_counts()[1]]\n",
        "fig = make_subplots(1, 2, specs=[[{'type':'domain'}, {'type':'domain'}]],\n",
        "                    subplot_titles=['Total Departures', 'Total Arrivals'])\n",
        "fig.add_trace(go.Pie(labels=labels, values=values, pull=[0, 0.1],textinfo = 'label+percent'),1,1)\n",
        "fig.add_trace(go.Pie(labels=labels, values=values_arr, pull=[0, 0.1],textinfo = 'label+percent'),1,2)\n",
        "fig.update_traces( textinfo='value', textfont_size=14,\n",
        "                  marker=dict(colors=colors, line=dict(color='#000000', width=2)))\n",
        "#fig.update_layout(uniformtext.minsize=4, uniformtext.mode='hide', title_text='Flights Delayed', title_x = 0.5, legend_title='Flights',legend=dict(x=.45, y=0.6))\n",
        "fig.update_layout(dict1 = dict(title_text='Flights Delayed', title_x = 0.5, legend=dict(x=.45, y=0.6)))\n",
        "fig.show()"
      ],
      "execution_count": 44,
      "outputs": [
        {
          "output_type": "display_data",
          "data": {
            "text/html": [
              "<html>\n",
              "<head><meta charset=\"utf-8\" /></head>\n",
              "<body>\n",
              "    <div>\n",
              "            <script src=\"https://cdnjs.cloudflare.com/ajax/libs/mathjax/2.7.5/MathJax.js?config=TeX-AMS-MML_SVG\"></script><script type=\"text/javascript\">if (window.MathJax) {MathJax.Hub.Config({SVG: {font: \"STIX-Web\"}});}</script>\n",
              "                <script type=\"text/javascript\">window.PlotlyConfig = {MathJaxConfig: 'local'};</script>\n",
              "        <script src=\"https://cdn.plot.ly/plotly-latest.min.js\"></script>    \n",
              "            <div id=\"8dd34ab1-9105-4769-b095-051e5b78f88f\" class=\"plotly-graph-div\" style=\"height:525px; width:100%;\"></div>\n",
              "            <script type=\"text/javascript\">\n",
              "                \n",
              "                    window.PLOTLYENV=window.PLOTLYENV || {};\n",
              "                    \n",
              "                if (document.getElementById(\"8dd34ab1-9105-4769-b095-051e5b78f88f\")) {\n",
              "                    Plotly.newPlot(\n",
              "                        '8dd34ab1-9105-4769-b095-051e5b78f88f',\n",
              "                        [{\"domain\": {\"x\": [0.0, 0.45], \"y\": [0.0, 1.0]}, \"labels\": [\"Not Delayed\", \"Delayed by (>15 minutes)\"], \"marker\": {\"colors\": [\"bisque\", \"red\"], \"line\": {\"color\": \"#000000\", \"width\": 2}}, \"pull\": [0, 0.1], \"textfont\": {\"size\": 14}, \"textinfo\": \"value\", \"type\": \"pie\", \"values\": [985479, 179752]}, {\"domain\": {\"x\": [0.55, 1.0], \"y\": [0.0, 1.0]}, \"labels\": [\"Not Delayed\", \"Delayed by (>15 minutes)\"], \"marker\": {\"colors\": [\"bisque\", \"red\"], \"line\": {\"color\": \"#000000\", \"width\": 2}}, \"pull\": [0, 0.1], \"textfont\": {\"size\": 14}, \"textinfo\": \"value\", \"type\": \"pie\", \"values\": [977724, 187507]}],\n",
              "                        {\"annotations\": [{\"font\": {\"size\": 16}, \"showarrow\": false, \"text\": \"Total Departures\", \"x\": 0.225, \"xanchor\": \"center\", \"xref\": \"paper\", \"y\": 1.0, \"yanchor\": \"bottom\", \"yref\": \"paper\"}, {\"font\": {\"size\": 16}, \"showarrow\": false, \"text\": \"Total Arrivals\", \"x\": 0.775, \"xanchor\": \"center\", \"xref\": \"paper\", \"y\": 1.0, \"yanchor\": \"bottom\", \"yref\": \"paper\"}], \"legend\": {\"x\": 0.45, \"y\": 0.6}, \"template\": {\"data\": {\"bar\": [{\"error_x\": {\"color\": \"#2a3f5f\"}, \"error_y\": {\"color\": \"#2a3f5f\"}, \"marker\": {\"line\": {\"color\": \"#E5ECF6\", \"width\": 0.5}}, \"type\": \"bar\"}], \"barpolar\": [{\"marker\": {\"line\": {\"color\": \"#E5ECF6\", \"width\": 0.5}}, \"type\": \"barpolar\"}], \"carpet\": [{\"aaxis\": {\"endlinecolor\": \"#2a3f5f\", \"gridcolor\": \"white\", \"linecolor\": \"white\", \"minorgridcolor\": \"white\", \"startlinecolor\": \"#2a3f5f\"}, \"baxis\": {\"endlinecolor\": \"#2a3f5f\", \"gridcolor\": \"white\", \"linecolor\": \"white\", \"minorgridcolor\": \"white\", \"startlinecolor\": \"#2a3f5f\"}, \"type\": \"carpet\"}], \"choropleth\": [{\"colorbar\": {\"outlinewidth\": 0, \"ticks\": \"\"}, \"type\": \"choropleth\"}], \"contour\": [{\"colorbar\": {\"outlinewidth\": 0, \"ticks\": \"\"}, \"colorscale\": [[0.0, \"#0d0887\"], [0.1111111111111111, \"#46039f\"], [0.2222222222222222, \"#7201a8\"], [0.3333333333333333, \"#9c179e\"], [0.4444444444444444, \"#bd3786\"], [0.5555555555555556, \"#d8576b\"], [0.6666666666666666, \"#ed7953\"], [0.7777777777777778, \"#fb9f3a\"], [0.8888888888888888, \"#fdca26\"], [1.0, \"#f0f921\"]], \"type\": \"contour\"}], \"contourcarpet\": [{\"colorbar\": {\"outlinewidth\": 0, \"ticks\": \"\"}, \"type\": \"contourcarpet\"}], \"heatmap\": [{\"colorbar\": {\"outlinewidth\": 0, \"ticks\": \"\"}, \"colorscale\": [[0.0, \"#0d0887\"], [0.1111111111111111, \"#46039f\"], [0.2222222222222222, \"#7201a8\"], [0.3333333333333333, \"#9c179e\"], [0.4444444444444444, \"#bd3786\"], [0.5555555555555556, \"#d8576b\"], [0.6666666666666666, \"#ed7953\"], [0.7777777777777778, \"#fb9f3a\"], [0.8888888888888888, \"#fdca26\"], [1.0, \"#f0f921\"]], \"type\": \"heatmap\"}], \"heatmapgl\": [{\"colorbar\": {\"outlinewidth\": 0, \"ticks\": \"\"}, \"colorscale\": [[0.0, \"#0d0887\"], [0.1111111111111111, \"#46039f\"], [0.2222222222222222, \"#7201a8\"], [0.3333333333333333, \"#9c179e\"], [0.4444444444444444, \"#bd3786\"], [0.5555555555555556, \"#d8576b\"], [0.6666666666666666, \"#ed7953\"], [0.7777777777777778, \"#fb9f3a\"], [0.8888888888888888, \"#fdca26\"], [1.0, \"#f0f921\"]], \"type\": \"heatmapgl\"}], \"histogram\": [{\"marker\": {\"colorbar\": {\"outlinewidth\": 0, \"ticks\": \"\"}}, \"type\": \"histogram\"}], \"histogram2d\": [{\"colorbar\": {\"outlinewidth\": 0, \"ticks\": \"\"}, \"colorscale\": [[0.0, \"#0d0887\"], [0.1111111111111111, \"#46039f\"], [0.2222222222222222, \"#7201a8\"], [0.3333333333333333, \"#9c179e\"], [0.4444444444444444, \"#bd3786\"], [0.5555555555555556, \"#d8576b\"], [0.6666666666666666, \"#ed7953\"], [0.7777777777777778, \"#fb9f3a\"], [0.8888888888888888, \"#fdca26\"], [1.0, \"#f0f921\"]], \"type\": \"histogram2d\"}], \"histogram2dcontour\": [{\"colorbar\": {\"outlinewidth\": 0, \"ticks\": \"\"}, \"colorscale\": [[0.0, \"#0d0887\"], [0.1111111111111111, \"#46039f\"], [0.2222222222222222, \"#7201a8\"], [0.3333333333333333, \"#9c179e\"], [0.4444444444444444, \"#bd3786\"], [0.5555555555555556, \"#d8576b\"], [0.6666666666666666, \"#ed7953\"], [0.7777777777777778, \"#fb9f3a\"], [0.8888888888888888, \"#fdca26\"], [1.0, \"#f0f921\"]], \"type\": \"histogram2dcontour\"}], \"mesh3d\": [{\"colorbar\": {\"outlinewidth\": 0, \"ticks\": \"\"}, \"type\": \"mesh3d\"}], \"parcoords\": [{\"line\": {\"colorbar\": {\"outlinewidth\": 0, \"ticks\": \"\"}}, \"type\": \"parcoords\"}], \"pie\": [{\"automargin\": true, \"type\": \"pie\"}], \"scatter\": [{\"marker\": {\"colorbar\": {\"outlinewidth\": 0, \"ticks\": \"\"}}, \"type\": \"scatter\"}], \"scatter3d\": [{\"line\": {\"colorbar\": {\"outlinewidth\": 0, \"ticks\": \"\"}}, \"marker\": {\"colorbar\": {\"outlinewidth\": 0, \"ticks\": \"\"}}, \"type\": \"scatter3d\"}], \"scattercarpet\": [{\"marker\": {\"colorbar\": {\"outlinewidth\": 0, \"ticks\": \"\"}}, \"type\": \"scattercarpet\"}], \"scattergeo\": [{\"marker\": {\"colorbar\": {\"outlinewidth\": 0, \"ticks\": \"\"}}, \"type\": \"scattergeo\"}], \"scattergl\": [{\"marker\": {\"colorbar\": {\"outlinewidth\": 0, \"ticks\": \"\"}}, \"type\": \"scattergl\"}], \"scattermapbox\": [{\"marker\": {\"colorbar\": {\"outlinewidth\": 0, \"ticks\": \"\"}}, \"type\": \"scattermapbox\"}], \"scatterpolar\": [{\"marker\": {\"colorbar\": {\"outlinewidth\": 0, \"ticks\": \"\"}}, \"type\": \"scatterpolar\"}], \"scatterpolargl\": [{\"marker\": {\"colorbar\": {\"outlinewidth\": 0, \"ticks\": \"\"}}, \"type\": \"scatterpolargl\"}], \"scatterternary\": [{\"marker\": {\"colorbar\": {\"outlinewidth\": 0, \"ticks\": \"\"}}, \"type\": \"scatterternary\"}], \"surface\": [{\"colorbar\": {\"outlinewidth\": 0, \"ticks\": \"\"}, \"colorscale\": [[0.0, \"#0d0887\"], [0.1111111111111111, \"#46039f\"], [0.2222222222222222, \"#7201a8\"], [0.3333333333333333, \"#9c179e\"], [0.4444444444444444, \"#bd3786\"], [0.5555555555555556, \"#d8576b\"], [0.6666666666666666, \"#ed7953\"], [0.7777777777777778, \"#fb9f3a\"], [0.8888888888888888, \"#fdca26\"], [1.0, \"#f0f921\"]], \"type\": \"surface\"}], \"table\": [{\"cells\": {\"fill\": {\"color\": \"#EBF0F8\"}, \"line\": {\"color\": \"white\"}}, \"header\": {\"fill\": {\"color\": \"#C8D4E3\"}, \"line\": {\"color\": \"white\"}}, \"type\": \"table\"}]}, \"layout\": {\"annotationdefaults\": {\"arrowcolor\": \"#2a3f5f\", \"arrowhead\": 0, \"arrowwidth\": 1}, \"coloraxis\": {\"colorbar\": {\"outlinewidth\": 0, \"ticks\": \"\"}}, \"colorscale\": {\"diverging\": [[0, \"#8e0152\"], [0.1, \"#c51b7d\"], [0.2, \"#de77ae\"], [0.3, \"#f1b6da\"], [0.4, \"#fde0ef\"], [0.5, \"#f7f7f7\"], [0.6, \"#e6f5d0\"], [0.7, \"#b8e186\"], [0.8, \"#7fbc41\"], [0.9, \"#4d9221\"], [1, \"#276419\"]], \"sequential\": [[0.0, \"#0d0887\"], [0.1111111111111111, \"#46039f\"], [0.2222222222222222, \"#7201a8\"], [0.3333333333333333, \"#9c179e\"], [0.4444444444444444, \"#bd3786\"], [0.5555555555555556, \"#d8576b\"], [0.6666666666666666, \"#ed7953\"], [0.7777777777777778, \"#fb9f3a\"], [0.8888888888888888, \"#fdca26\"], [1.0, \"#f0f921\"]], \"sequentialminus\": [[0.0, \"#0d0887\"], [0.1111111111111111, \"#46039f\"], [0.2222222222222222, \"#7201a8\"], [0.3333333333333333, \"#9c179e\"], [0.4444444444444444, \"#bd3786\"], [0.5555555555555556, \"#d8576b\"], [0.6666666666666666, \"#ed7953\"], [0.7777777777777778, \"#fb9f3a\"], [0.8888888888888888, \"#fdca26\"], [1.0, \"#f0f921\"]]}, \"colorway\": [\"#636efa\", \"#EF553B\", \"#00cc96\", \"#ab63fa\", \"#FFA15A\", \"#19d3f3\", \"#FF6692\", \"#B6E880\", \"#FF97FF\", \"#FECB52\"], \"font\": {\"color\": \"#2a3f5f\"}, \"geo\": {\"bgcolor\": \"white\", \"lakecolor\": \"white\", \"landcolor\": \"#E5ECF6\", \"showlakes\": true, \"showland\": true, \"subunitcolor\": \"white\"}, \"hoverlabel\": {\"align\": \"left\"}, \"hovermode\": \"closest\", \"mapbox\": {\"style\": \"light\"}, \"paper_bgcolor\": \"white\", \"plot_bgcolor\": \"#E5ECF6\", \"polar\": {\"angularaxis\": {\"gridcolor\": \"white\", \"linecolor\": \"white\", \"ticks\": \"\"}, \"bgcolor\": \"#E5ECF6\", \"radialaxis\": {\"gridcolor\": \"white\", \"linecolor\": \"white\", \"ticks\": \"\"}}, \"scene\": {\"xaxis\": {\"backgroundcolor\": \"#E5ECF6\", \"gridcolor\": \"white\", \"gridwidth\": 2, \"linecolor\": \"white\", \"showbackground\": true, \"ticks\": \"\", \"zerolinecolor\": \"white\"}, \"yaxis\": {\"backgroundcolor\": \"#E5ECF6\", \"gridcolor\": \"white\", \"gridwidth\": 2, \"linecolor\": \"white\", \"showbackground\": true, \"ticks\": \"\", \"zerolinecolor\": \"white\"}, \"zaxis\": {\"backgroundcolor\": \"#E5ECF6\", \"gridcolor\": \"white\", \"gridwidth\": 2, \"linecolor\": \"white\", \"showbackground\": true, \"ticks\": \"\", \"zerolinecolor\": \"white\"}}, \"shapedefaults\": {\"line\": {\"color\": \"#2a3f5f\"}}, \"ternary\": {\"aaxis\": {\"gridcolor\": \"white\", \"linecolor\": \"white\", \"ticks\": \"\"}, \"baxis\": {\"gridcolor\": \"white\", \"linecolor\": \"white\", \"ticks\": \"\"}, \"bgcolor\": \"#E5ECF6\", \"caxis\": {\"gridcolor\": \"white\", \"linecolor\": \"white\", \"ticks\": \"\"}}, \"title\": {\"x\": 0.05}, \"xaxis\": {\"automargin\": true, \"gridcolor\": \"white\", \"linecolor\": \"white\", \"ticks\": \"\", \"title\": {\"standoff\": 15}, \"zerolinecolor\": \"white\", \"zerolinewidth\": 2}, \"yaxis\": {\"automargin\": true, \"gridcolor\": \"white\", \"linecolor\": \"white\", \"ticks\": \"\", \"title\": {\"standoff\": 15}, \"zerolinecolor\": \"white\", \"zerolinewidth\": 2}}}, \"title\": {\"text\": \"Flights Delayed\", \"x\": 0.5}},\n",
              "                        {\"responsive\": true}\n",
              "                    ).then(function(){\n",
              "                            \n",
              "var gd = document.getElementById('8dd34ab1-9105-4769-b095-051e5b78f88f');\n",
              "var x = new MutationObserver(function (mutations, observer) {{\n",
              "        var display = window.getComputedStyle(gd).display;\n",
              "        if (!display || display === 'none') {{\n",
              "            console.log([gd, 'removed!']);\n",
              "            Plotly.purge(gd);\n",
              "            observer.disconnect();\n",
              "        }}\n",
              "}});\n",
              "\n",
              "// Listen for the removal of the full notebook cells\n",
              "var notebookContainer = gd.closest('#notebook-container');\n",
              "if (notebookContainer) {{\n",
              "    x.observe(notebookContainer, {childList: true});\n",
              "}}\n",
              "\n",
              "// Listen for the clearing of the current output cell\n",
              "var outputEl = gd.closest('.output');\n",
              "if (outputEl) {{\n",
              "    x.observe(outputEl, {childList: true});\n",
              "}}\n",
              "\n",
              "                        })\n",
              "                };\n",
              "                \n",
              "            </script>\n",
              "        </div>\n",
              "</body>\n",
              "</html>"
            ]
          },
          "metadata": {
            "tags": []
          }
        }
      ]
    },
    {
      "cell_type": "code",
      "metadata": {
        "id": "NX8g67mzILl4",
        "colab_type": "code",
        "colab": {
          "base_uri": "https://localhost:8080/",
          "height": 542
        },
        "outputId": "e2a59dd7-76c0-4a53-a7cb-68fc00efd304"
      },
      "source": [
        "dep_time = pd.DataFrame(df_red['DEP_TIME_BLK'].value_counts().reset_index().values, columns=[\"DEP_TIME_BLK\", \"AggregateDepTime\"])\n",
        "dep_time = dep_time.sort_values('DEP_TIME_BLK',ascending=True)\n",
        "width = [0.5] *20\n",
        "fig = go.Figure(data=[go.Bar(x = dep_time['DEP_TIME_BLK'], y = dep_time['AggregateDepTime'], width = width, \n",
        "                             marker_color =px.colors.sequential.turbid, opacity =0.8, marker_line_width=2, text = dep_time['AggregateDepTime'],textposition='outside' )])\n",
        "\n",
        "fig.add_annotation( x='0600-0659', y=40000, text=\"<b>Highest Departures<b>\",showarrow=False, font=dict( family=\"Calbiri\", size=12, color = \"#ffffff\"), \n",
        "                   align=\"left\", arrowhead=2, arrowsize=1, arrowwidth=2, arrowcolor=\"#636363\", ax=50, ay=-40, bordercolor=\"#302f2f\", borderwidth=2.5, borderpad=6, bgcolor=\"#f29624\", opacity=0.8)\n",
        "fig.show()"
      ],
      "execution_count": 45,
      "outputs": [
        {
          "output_type": "display_data",
          "data": {
            "text/html": [
              "<html>\n",
              "<head><meta charset=\"utf-8\" /></head>\n",
              "<body>\n",
              "    <div>\n",
              "            <script src=\"https://cdnjs.cloudflare.com/ajax/libs/mathjax/2.7.5/MathJax.js?config=TeX-AMS-MML_SVG\"></script><script type=\"text/javascript\">if (window.MathJax) {MathJax.Hub.Config({SVG: {font: \"STIX-Web\"}});}</script>\n",
              "                <script type=\"text/javascript\">window.PlotlyConfig = {MathJaxConfig: 'local'};</script>\n",
              "        <script src=\"https://cdn.plot.ly/plotly-latest.min.js\"></script>    \n",
              "            <div id=\"569c9635-4d50-4dd2-9658-27aeff34a821\" class=\"plotly-graph-div\" style=\"height:525px; width:100%;\"></div>\n",
              "            <script type=\"text/javascript\">\n",
              "                \n",
              "                    window.PLOTLYENV=window.PLOTLYENV || {};\n",
              "                    \n",
              "                if (document.getElementById(\"569c9635-4d50-4dd2-9658-27aeff34a821\")) {\n",
              "                    Plotly.newPlot(\n",
              "                        '569c9635-4d50-4dd2-9658-27aeff34a821',\n",
              "                        [{\"marker\": {\"color\": [\"rgb(232, 245, 171)\", \"rgb(220, 219, 137)\", \"rgb(209, 193, 107)\", \"rgb(199, 168, 83)\", \"rgb(186, 143, 66)\", \"rgb(170, 121, 60)\", \"rgb(151, 103, 58)\", \"rgb(129, 87, 56)\", \"rgb(104, 72, 53)\", \"rgb(80, 59, 46)\", \"rgb(57, 45, 37)\", \"rgb(34, 30, 27)\"], \"line\": {\"width\": 2}}, \"opacity\": 0.8, \"text\": [31413, 84358, 77553, 76889, 69828, 70303, 73471, 73476, 66655, 70070, 70574, 69825, 75290, 67906, 63318, 54034, 35827, 26653, 7788], \"textposition\": \"outside\", \"type\": \"bar\", \"width\": [0.5, 0.5, 0.5, 0.5, 0.5, 0.5, 0.5, 0.5, 0.5, 0.5, 0.5, 0.5, 0.5, 0.5, 0.5, 0.5, 0.5, 0.5, 0.5, 0.5], \"x\": [\"0001-0559\", \"0600-0659\", \"0700-0759\", \"0800-0859\", \"0900-0959\", \"1000-1059\", \"1100-1159\", \"1200-1259\", \"1300-1359\", \"1400-1459\", \"1500-1559\", \"1600-1659\", \"1700-1759\", \"1800-1859\", \"1900-1959\", \"2000-2059\", \"2100-2159\", \"2200-2259\", \"2300-2359\"], \"y\": [31413, 84358, 77553, 76889, 69828, 70303, 73471, 73476, 66655, 70070, 70574, 69825, 75290, 67906, 63318, 54034, 35827, 26653, 7788]}],\n",
              "                        {\"annotations\": [{\"align\": \"left\", \"arrowcolor\": \"#636363\", \"arrowhead\": 2, \"arrowsize\": 1, \"arrowwidth\": 2, \"ax\": 50, \"ay\": -40, \"bgcolor\": \"#f29624\", \"bordercolor\": \"#302f2f\", \"borderpad\": 6, \"borderwidth\": 2.5, \"font\": {\"color\": \"#ffffff\", \"family\": \"Calbiri\", \"size\": 12}, \"opacity\": 0.8, \"showarrow\": false, \"text\": \"<b>Highest Departures<b>\", \"x\": \"0600-0659\", \"y\": 40000}], \"template\": {\"data\": {\"bar\": [{\"error_x\": {\"color\": \"#2a3f5f\"}, \"error_y\": {\"color\": \"#2a3f5f\"}, \"marker\": {\"line\": {\"color\": \"#E5ECF6\", \"width\": 0.5}}, \"type\": \"bar\"}], \"barpolar\": [{\"marker\": {\"line\": {\"color\": \"#E5ECF6\", \"width\": 0.5}}, \"type\": \"barpolar\"}], \"carpet\": [{\"aaxis\": {\"endlinecolor\": \"#2a3f5f\", \"gridcolor\": \"white\", \"linecolor\": \"white\", \"minorgridcolor\": \"white\", \"startlinecolor\": \"#2a3f5f\"}, \"baxis\": {\"endlinecolor\": \"#2a3f5f\", \"gridcolor\": \"white\", \"linecolor\": \"white\", \"minorgridcolor\": \"white\", \"startlinecolor\": \"#2a3f5f\"}, \"type\": \"carpet\"}], \"choropleth\": [{\"colorbar\": {\"outlinewidth\": 0, \"ticks\": \"\"}, \"type\": \"choropleth\"}], \"contour\": [{\"colorbar\": {\"outlinewidth\": 0, \"ticks\": \"\"}, \"colorscale\": [[0.0, \"#0d0887\"], [0.1111111111111111, \"#46039f\"], [0.2222222222222222, \"#7201a8\"], [0.3333333333333333, \"#9c179e\"], [0.4444444444444444, \"#bd3786\"], [0.5555555555555556, \"#d8576b\"], [0.6666666666666666, \"#ed7953\"], [0.7777777777777778, \"#fb9f3a\"], [0.8888888888888888, \"#fdca26\"], [1.0, \"#f0f921\"]], \"type\": \"contour\"}], \"contourcarpet\": [{\"colorbar\": {\"outlinewidth\": 0, \"ticks\": \"\"}, \"type\": \"contourcarpet\"}], \"heatmap\": [{\"colorbar\": {\"outlinewidth\": 0, \"ticks\": \"\"}, \"colorscale\": [[0.0, \"#0d0887\"], [0.1111111111111111, \"#46039f\"], [0.2222222222222222, \"#7201a8\"], [0.3333333333333333, \"#9c179e\"], [0.4444444444444444, \"#bd3786\"], [0.5555555555555556, \"#d8576b\"], [0.6666666666666666, \"#ed7953\"], [0.7777777777777778, \"#fb9f3a\"], [0.8888888888888888, \"#fdca26\"], [1.0, \"#f0f921\"]], \"type\": \"heatmap\"}], \"heatmapgl\": [{\"colorbar\": {\"outlinewidth\": 0, \"ticks\": \"\"}, \"colorscale\": [[0.0, \"#0d0887\"], [0.1111111111111111, \"#46039f\"], [0.2222222222222222, \"#7201a8\"], [0.3333333333333333, \"#9c179e\"], [0.4444444444444444, \"#bd3786\"], [0.5555555555555556, \"#d8576b\"], [0.6666666666666666, \"#ed7953\"], [0.7777777777777778, \"#fb9f3a\"], [0.8888888888888888, \"#fdca26\"], [1.0, \"#f0f921\"]], \"type\": \"heatmapgl\"}], \"histogram\": [{\"marker\": {\"colorbar\": {\"outlinewidth\": 0, \"ticks\": \"\"}}, \"type\": \"histogram\"}], \"histogram2d\": [{\"colorbar\": {\"outlinewidth\": 0, \"ticks\": \"\"}, \"colorscale\": [[0.0, \"#0d0887\"], [0.1111111111111111, \"#46039f\"], [0.2222222222222222, \"#7201a8\"], [0.3333333333333333, \"#9c179e\"], [0.4444444444444444, \"#bd3786\"], [0.5555555555555556, \"#d8576b\"], [0.6666666666666666, \"#ed7953\"], [0.7777777777777778, \"#fb9f3a\"], [0.8888888888888888, \"#fdca26\"], [1.0, \"#f0f921\"]], \"type\": \"histogram2d\"}], \"histogram2dcontour\": [{\"colorbar\": {\"outlinewidth\": 0, \"ticks\": \"\"}, \"colorscale\": [[0.0, \"#0d0887\"], [0.1111111111111111, \"#46039f\"], [0.2222222222222222, \"#7201a8\"], [0.3333333333333333, \"#9c179e\"], [0.4444444444444444, \"#bd3786\"], [0.5555555555555556, \"#d8576b\"], [0.6666666666666666, \"#ed7953\"], [0.7777777777777778, \"#fb9f3a\"], [0.8888888888888888, \"#fdca26\"], [1.0, \"#f0f921\"]], \"type\": \"histogram2dcontour\"}], \"mesh3d\": [{\"colorbar\": {\"outlinewidth\": 0, \"ticks\": \"\"}, \"type\": \"mesh3d\"}], \"parcoords\": [{\"line\": {\"colorbar\": {\"outlinewidth\": 0, \"ticks\": \"\"}}, \"type\": \"parcoords\"}], \"pie\": [{\"automargin\": true, \"type\": \"pie\"}], \"scatter\": [{\"marker\": {\"colorbar\": {\"outlinewidth\": 0, \"ticks\": \"\"}}, \"type\": \"scatter\"}], \"scatter3d\": [{\"line\": {\"colorbar\": {\"outlinewidth\": 0, \"ticks\": \"\"}}, \"marker\": {\"colorbar\": {\"outlinewidth\": 0, \"ticks\": \"\"}}, \"type\": \"scatter3d\"}], \"scattercarpet\": [{\"marker\": {\"colorbar\": {\"outlinewidth\": 0, \"ticks\": \"\"}}, \"type\": \"scattercarpet\"}], \"scattergeo\": [{\"marker\": {\"colorbar\": {\"outlinewidth\": 0, \"ticks\": \"\"}}, \"type\": \"scattergeo\"}], \"scattergl\": [{\"marker\": {\"colorbar\": {\"outlinewidth\": 0, \"ticks\": \"\"}}, \"type\": \"scattergl\"}], \"scattermapbox\": [{\"marker\": {\"colorbar\": {\"outlinewidth\": 0, \"ticks\": \"\"}}, \"type\": \"scattermapbox\"}], \"scatterpolar\": [{\"marker\": {\"colorbar\": {\"outlinewidth\": 0, \"ticks\": \"\"}}, \"type\": \"scatterpolar\"}], \"scatterpolargl\": [{\"marker\": {\"colorbar\": {\"outlinewidth\": 0, \"ticks\": \"\"}}, \"type\": \"scatterpolargl\"}], \"scatterternary\": [{\"marker\": {\"colorbar\": {\"outlinewidth\": 0, \"ticks\": \"\"}}, \"type\": \"scatterternary\"}], \"surface\": [{\"colorbar\": {\"outlinewidth\": 0, \"ticks\": \"\"}, \"colorscale\": [[0.0, \"#0d0887\"], [0.1111111111111111, \"#46039f\"], [0.2222222222222222, \"#7201a8\"], [0.3333333333333333, \"#9c179e\"], [0.4444444444444444, \"#bd3786\"], [0.5555555555555556, \"#d8576b\"], [0.6666666666666666, \"#ed7953\"], [0.7777777777777778, \"#fb9f3a\"], [0.8888888888888888, \"#fdca26\"], [1.0, \"#f0f921\"]], \"type\": \"surface\"}], \"table\": [{\"cells\": {\"fill\": {\"color\": \"#EBF0F8\"}, \"line\": {\"color\": \"white\"}}, \"header\": {\"fill\": {\"color\": \"#C8D4E3\"}, \"line\": {\"color\": \"white\"}}, \"type\": \"table\"}]}, \"layout\": {\"annotationdefaults\": {\"arrowcolor\": \"#2a3f5f\", \"arrowhead\": 0, \"arrowwidth\": 1}, \"coloraxis\": {\"colorbar\": {\"outlinewidth\": 0, \"ticks\": \"\"}}, \"colorscale\": {\"diverging\": [[0, \"#8e0152\"], [0.1, \"#c51b7d\"], [0.2, \"#de77ae\"], [0.3, \"#f1b6da\"], [0.4, \"#fde0ef\"], [0.5, \"#f7f7f7\"], [0.6, \"#e6f5d0\"], [0.7, \"#b8e186\"], [0.8, \"#7fbc41\"], [0.9, \"#4d9221\"], [1, \"#276419\"]], \"sequential\": [[0.0, \"#0d0887\"], [0.1111111111111111, \"#46039f\"], [0.2222222222222222, \"#7201a8\"], [0.3333333333333333, \"#9c179e\"], [0.4444444444444444, \"#bd3786\"], [0.5555555555555556, \"#d8576b\"], [0.6666666666666666, \"#ed7953\"], [0.7777777777777778, \"#fb9f3a\"], [0.8888888888888888, \"#fdca26\"], [1.0, \"#f0f921\"]], \"sequentialminus\": [[0.0, \"#0d0887\"], [0.1111111111111111, \"#46039f\"], [0.2222222222222222, \"#7201a8\"], [0.3333333333333333, \"#9c179e\"], [0.4444444444444444, \"#bd3786\"], [0.5555555555555556, \"#d8576b\"], [0.6666666666666666, \"#ed7953\"], [0.7777777777777778, \"#fb9f3a\"], [0.8888888888888888, \"#fdca26\"], [1.0, \"#f0f921\"]]}, \"colorway\": [\"#636efa\", \"#EF553B\", \"#00cc96\", \"#ab63fa\", \"#FFA15A\", \"#19d3f3\", \"#FF6692\", \"#B6E880\", \"#FF97FF\", \"#FECB52\"], \"font\": {\"color\": \"#2a3f5f\"}, \"geo\": {\"bgcolor\": \"white\", \"lakecolor\": \"white\", \"landcolor\": \"#E5ECF6\", \"showlakes\": true, \"showland\": true, \"subunitcolor\": \"white\"}, \"hoverlabel\": {\"align\": \"left\"}, \"hovermode\": \"closest\", \"mapbox\": {\"style\": \"light\"}, \"paper_bgcolor\": \"white\", \"plot_bgcolor\": \"#E5ECF6\", \"polar\": {\"angularaxis\": {\"gridcolor\": \"white\", \"linecolor\": \"white\", \"ticks\": \"\"}, \"bgcolor\": \"#E5ECF6\", \"radialaxis\": {\"gridcolor\": \"white\", \"linecolor\": \"white\", \"ticks\": \"\"}}, \"scene\": {\"xaxis\": {\"backgroundcolor\": \"#E5ECF6\", \"gridcolor\": \"white\", \"gridwidth\": 2, \"linecolor\": \"white\", \"showbackground\": true, \"ticks\": \"\", \"zerolinecolor\": \"white\"}, \"yaxis\": {\"backgroundcolor\": \"#E5ECF6\", \"gridcolor\": \"white\", \"gridwidth\": 2, \"linecolor\": \"white\", \"showbackground\": true, \"ticks\": \"\", \"zerolinecolor\": \"white\"}, \"zaxis\": {\"backgroundcolor\": \"#E5ECF6\", \"gridcolor\": \"white\", \"gridwidth\": 2, \"linecolor\": \"white\", \"showbackground\": true, \"ticks\": \"\", \"zerolinecolor\": \"white\"}}, \"shapedefaults\": {\"line\": {\"color\": \"#2a3f5f\"}}, \"ternary\": {\"aaxis\": {\"gridcolor\": \"white\", \"linecolor\": \"white\", \"ticks\": \"\"}, \"baxis\": {\"gridcolor\": \"white\", \"linecolor\": \"white\", \"ticks\": \"\"}, \"bgcolor\": \"#E5ECF6\", \"caxis\": {\"gridcolor\": \"white\", \"linecolor\": \"white\", \"ticks\": \"\"}}, \"title\": {\"x\": 0.05}, \"xaxis\": {\"automargin\": true, \"gridcolor\": \"white\", \"linecolor\": \"white\", \"ticks\": \"\", \"title\": {\"standoff\": 15}, \"zerolinecolor\": \"white\", \"zerolinewidth\": 2}, \"yaxis\": {\"automargin\": true, \"gridcolor\": \"white\", \"linecolor\": \"white\", \"ticks\": \"\", \"title\": {\"standoff\": 15}, \"zerolinecolor\": \"white\", \"zerolinewidth\": 2}}}},\n",
              "                        {\"responsive\": true}\n",
              "                    ).then(function(){\n",
              "                            \n",
              "var gd = document.getElementById('569c9635-4d50-4dd2-9658-27aeff34a821');\n",
              "var x = new MutationObserver(function (mutations, observer) {{\n",
              "        var display = window.getComputedStyle(gd).display;\n",
              "        if (!display || display === 'none') {{\n",
              "            console.log([gd, 'removed!']);\n",
              "            Plotly.purge(gd);\n",
              "            observer.disconnect();\n",
              "        }}\n",
              "}});\n",
              "\n",
              "// Listen for the removal of the full notebook cells\n",
              "var notebookContainer = gd.closest('#notebook-container');\n",
              "if (notebookContainer) {{\n",
              "    x.observe(notebookContainer, {childList: true});\n",
              "}}\n",
              "\n",
              "// Listen for the clearing of the current output cell\n",
              "var outputEl = gd.closest('.output');\n",
              "if (outputEl) {{\n",
              "    x.observe(outputEl, {childList: true});\n",
              "}}\n",
              "\n",
              "                        })\n",
              "                };\n",
              "                \n",
              "            </script>\n",
              "        </div>\n",
              "</body>\n",
              "</html>"
            ]
          },
          "metadata": {
            "tags": []
          }
        }
      ]
    },
    {
      "cell_type": "code",
      "metadata": {
        "id": "dpXdnB6YNwZg",
        "colab_type": "code",
        "colab": {
          "base_uri": "https://localhost:8080/",
          "height": 398
        },
        "outputId": "17113dc8-4bed-4e58-e924-564d6425583d"
      },
      "source": [
        "Cancelled_flights = df_red.groupby('DAY_OF_MONTH')['CANCELLED'].count()\n",
        "fig1 = go.Figure()\n",
        "fig1.add_trace(go.Bar(x=Cancelled_flights.index, y=Cancelled_flights.values, name='Cancel bar',opacity=0.9,marker_color='peachpuff'))\n",
        "\n",
        "fig1.add_trace(go.Scatter(x=Cancelled_flights.index, y=Cancelled_flights.values, line=dict(color='firebrick'), name='Cancellation trend'))\n",
        "fig1.update_layout(\n",
        "    title=\"Checking the seasonality in cancellations\",\n",
        "    xaxis_title=\"Day of month\",\n",
        "    yaxis_title=\"Cancellations count\",\n",
        ")\n",
        "fig1.show()\n"
      ],
      "execution_count": 46,
      "outputs": [
        {
          "output_type": "error",
          "ename": "KeyError",
          "evalue": "ignored",
          "traceback": [
            "\u001b[0;31m---------------------------------------------------------------------------\u001b[0m",
            "\u001b[0;31mKeyError\u001b[0m                                  Traceback (most recent call last)",
            "\u001b[0;32m<ipython-input-46-b58bafef52f3>\u001b[0m in \u001b[0;36m<module>\u001b[0;34m()\u001b[0m\n\u001b[0;32m----> 1\u001b[0;31m \u001b[0mCancelled_flights\u001b[0m \u001b[0;34m=\u001b[0m \u001b[0mdf_red\u001b[0m\u001b[0;34m.\u001b[0m\u001b[0mgroupby\u001b[0m\u001b[0;34m(\u001b[0m\u001b[0;34m'DAY_OF_MONTH'\u001b[0m\u001b[0;34m)\u001b[0m\u001b[0;34m[\u001b[0m\u001b[0;34m'CANCELLED'\u001b[0m\u001b[0;34m]\u001b[0m\u001b[0;34m.\u001b[0m\u001b[0mcount\u001b[0m\u001b[0;34m(\u001b[0m\u001b[0;34m)\u001b[0m\u001b[0;34m\u001b[0m\u001b[0;34m\u001b[0m\u001b[0m\n\u001b[0m\u001b[1;32m      2\u001b[0m \u001b[0mfig1\u001b[0m \u001b[0;34m=\u001b[0m \u001b[0mgo\u001b[0m\u001b[0;34m.\u001b[0m\u001b[0mFigure\u001b[0m\u001b[0;34m(\u001b[0m\u001b[0;34m)\u001b[0m\u001b[0;34m\u001b[0m\u001b[0;34m\u001b[0m\u001b[0m\n\u001b[1;32m      3\u001b[0m \u001b[0mfig1\u001b[0m\u001b[0;34m.\u001b[0m\u001b[0madd_trace\u001b[0m\u001b[0;34m(\u001b[0m\u001b[0mgo\u001b[0m\u001b[0;34m.\u001b[0m\u001b[0mBar\u001b[0m\u001b[0;34m(\u001b[0m\u001b[0mx\u001b[0m\u001b[0;34m=\u001b[0m\u001b[0mCancelled_flights\u001b[0m\u001b[0;34m.\u001b[0m\u001b[0mindex\u001b[0m\u001b[0;34m,\u001b[0m \u001b[0my\u001b[0m\u001b[0;34m=\u001b[0m\u001b[0mCancelled_flights\u001b[0m\u001b[0;34m.\u001b[0m\u001b[0mvalues\u001b[0m\u001b[0;34m,\u001b[0m \u001b[0mname\u001b[0m\u001b[0;34m=\u001b[0m\u001b[0;34m'Cancel bar'\u001b[0m\u001b[0;34m,\u001b[0m\u001b[0mopacity\u001b[0m\u001b[0;34m=\u001b[0m\u001b[0;36m0.9\u001b[0m\u001b[0;34m,\u001b[0m\u001b[0mmarker_color\u001b[0m\u001b[0;34m=\u001b[0m\u001b[0;34m'peachpuff'\u001b[0m\u001b[0;34m)\u001b[0m\u001b[0;34m)\u001b[0m\u001b[0;34m\u001b[0m\u001b[0;34m\u001b[0m\u001b[0m\n\u001b[1;32m      4\u001b[0m \u001b[0;34m\u001b[0m\u001b[0m\n\u001b[1;32m      5\u001b[0m \u001b[0mfig1\u001b[0m\u001b[0;34m.\u001b[0m\u001b[0madd_trace\u001b[0m\u001b[0;34m(\u001b[0m\u001b[0mgo\u001b[0m\u001b[0;34m.\u001b[0m\u001b[0mScatter\u001b[0m\u001b[0;34m(\u001b[0m\u001b[0mx\u001b[0m\u001b[0;34m=\u001b[0m\u001b[0mCancelled_flights\u001b[0m\u001b[0;34m.\u001b[0m\u001b[0mindex\u001b[0m\u001b[0;34m,\u001b[0m \u001b[0my\u001b[0m\u001b[0;34m=\u001b[0m\u001b[0mCancelled_flights\u001b[0m\u001b[0;34m.\u001b[0m\u001b[0mvalues\u001b[0m\u001b[0;34m,\u001b[0m \u001b[0mline\u001b[0m\u001b[0;34m=\u001b[0m\u001b[0mdict\u001b[0m\u001b[0;34m(\u001b[0m\u001b[0mcolor\u001b[0m\u001b[0;34m=\u001b[0m\u001b[0;34m'firebrick'\u001b[0m\u001b[0;34m)\u001b[0m\u001b[0;34m,\u001b[0m \u001b[0mname\u001b[0m\u001b[0;34m=\u001b[0m\u001b[0;34m'Cancellation trend'\u001b[0m\u001b[0;34m)\u001b[0m\u001b[0;34m)\u001b[0m\u001b[0;34m\u001b[0m\u001b[0;34m\u001b[0m\u001b[0m\n",
            "\u001b[0;32m/usr/local/lib/python3.6/dist-packages/pandas/core/groupby/generic.py\u001b[0m in \u001b[0;36m__getitem__\u001b[0;34m(self, key)\u001b[0m\n\u001b[1;32m   1601\u001b[0m                 \u001b[0mstacklevel\u001b[0m\u001b[0;34m=\u001b[0m\u001b[0;36m2\u001b[0m\u001b[0;34m,\u001b[0m\u001b[0;34m\u001b[0m\u001b[0;34m\u001b[0m\u001b[0m\n\u001b[1;32m   1602\u001b[0m             )\n\u001b[0;32m-> 1603\u001b[0;31m         \u001b[0;32mreturn\u001b[0m \u001b[0msuper\u001b[0m\u001b[0;34m(\u001b[0m\u001b[0;34m)\u001b[0m\u001b[0;34m.\u001b[0m\u001b[0m__getitem__\u001b[0m\u001b[0;34m(\u001b[0m\u001b[0mkey\u001b[0m\u001b[0;34m)\u001b[0m\u001b[0;34m\u001b[0m\u001b[0;34m\u001b[0m\u001b[0m\n\u001b[0m\u001b[1;32m   1604\u001b[0m \u001b[0;34m\u001b[0m\u001b[0m\n\u001b[1;32m   1605\u001b[0m     \u001b[0;32mdef\u001b[0m \u001b[0m_gotitem\u001b[0m\u001b[0;34m(\u001b[0m\u001b[0mself\u001b[0m\u001b[0;34m,\u001b[0m \u001b[0mkey\u001b[0m\u001b[0;34m,\u001b[0m \u001b[0mndim\u001b[0m\u001b[0;34m:\u001b[0m \u001b[0mint\u001b[0m\u001b[0;34m,\u001b[0m \u001b[0msubset\u001b[0m\u001b[0;34m=\u001b[0m\u001b[0;32mNone\u001b[0m\u001b[0;34m)\u001b[0m\u001b[0;34m:\u001b[0m\u001b[0;34m\u001b[0m\u001b[0;34m\u001b[0m\u001b[0m\n",
            "\u001b[0;32m/usr/local/lib/python3.6/dist-packages/pandas/core/base.py\u001b[0m in \u001b[0;36m__getitem__\u001b[0;34m(self, key)\u001b[0m\n\u001b[1;32m    228\u001b[0m         \u001b[0;32melse\u001b[0m\u001b[0;34m:\u001b[0m\u001b[0;34m\u001b[0m\u001b[0;34m\u001b[0m\u001b[0m\n\u001b[1;32m    229\u001b[0m             \u001b[0;32mif\u001b[0m \u001b[0mkey\u001b[0m \u001b[0;32mnot\u001b[0m \u001b[0;32min\u001b[0m \u001b[0mself\u001b[0m\u001b[0;34m.\u001b[0m\u001b[0mobj\u001b[0m\u001b[0;34m:\u001b[0m\u001b[0;34m\u001b[0m\u001b[0;34m\u001b[0m\u001b[0m\n\u001b[0;32m--> 230\u001b[0;31m                 \u001b[0;32mraise\u001b[0m \u001b[0mKeyError\u001b[0m\u001b[0;34m(\u001b[0m\u001b[0;34mf\"Column not found: {key}\"\u001b[0m\u001b[0;34m)\u001b[0m\u001b[0;34m\u001b[0m\u001b[0;34m\u001b[0m\u001b[0m\n\u001b[0m\u001b[1;32m    231\u001b[0m             \u001b[0;32mreturn\u001b[0m \u001b[0mself\u001b[0m\u001b[0;34m.\u001b[0m\u001b[0m_gotitem\u001b[0m\u001b[0;34m(\u001b[0m\u001b[0mkey\u001b[0m\u001b[0;34m,\u001b[0m \u001b[0mndim\u001b[0m\u001b[0;34m=\u001b[0m\u001b[0;36m1\u001b[0m\u001b[0;34m)\u001b[0m\u001b[0;34m\u001b[0m\u001b[0;34m\u001b[0m\u001b[0m\n\u001b[1;32m    232\u001b[0m \u001b[0;34m\u001b[0m\u001b[0m\n",
            "\u001b[0;31mKeyError\u001b[0m: 'Column not found: CANCELLED'"
          ]
        }
      ]
    },
    {
      "cell_type": "code",
      "metadata": {
        "id": "9GVJx_CBPPIR",
        "colab_type": "code",
        "colab": {
          "base_uri": "https://localhost:8080/",
          "height": 542
        },
        "outputId": "da1637eb-e338-4185-c3ae-ab03f1c80e3a"
      },
      "source": [
        "Diverted_flights = flights.groupby('DAY_OF_MONTH')['DIVERTED'].count()\n",
        "fig2 = go.Figure()\n",
        "fig2.add_trace(go.Bar(x=Diverted_flights.index, y=Diverted_flights.values, name='Rerouting bar graph',opacity=0.9,marker_color='peachpuff'))\n",
        "\n",
        "fig2.add_trace(go.Scatter(x=Diverted_flights.index, y=Diverted_flights.values, line=dict(color='firebrick'), name='Rerouting trend'))\n",
        "fig2.update_layout(\n",
        "    title=\"Checking the seasonality in rerouting\",\n",
        "    xaxis_title=\"Day of month\",\n",
        "    yaxis_title=\"Reroutings count\",\n",
        ")\n",
        "fig2.show()"
      ],
      "execution_count": null,
      "outputs": [
        {
          "output_type": "display_data",
          "data": {
            "text/html": [
              "<html>\n",
              "<head><meta charset=\"utf-8\" /></head>\n",
              "<body>\n",
              "    <div>\n",
              "            <script src=\"https://cdnjs.cloudflare.com/ajax/libs/mathjax/2.7.5/MathJax.js?config=TeX-AMS-MML_SVG\"></script><script type=\"text/javascript\">if (window.MathJax) {MathJax.Hub.Config({SVG: {font: \"STIX-Web\"}});}</script>\n",
              "                <script type=\"text/javascript\">window.PlotlyConfig = {MathJaxConfig: 'local'};</script>\n",
              "        <script src=\"https://cdn.plot.ly/plotly-latest.min.js\"></script>    \n",
              "            <div id=\"ddc25fe3-34b5-4eb2-9179-10ee273c69bb\" class=\"plotly-graph-div\" style=\"height:525px; width:100%;\"></div>\n",
              "            <script type=\"text/javascript\">\n",
              "                \n",
              "                    window.PLOTLYENV=window.PLOTLYENV || {};\n",
              "                    \n",
              "                if (document.getElementById(\"ddc25fe3-34b5-4eb2-9179-10ee273c69bb\")) {\n",
              "                    Plotly.newPlot(\n",
              "                        'ddc25fe3-34b5-4eb2-9179-10ee273c69bb',\n",
              "                        [{\"marker\": {\"color\": \"peachpuff\"}, \"name\": \"Rerouting bar graph\", \"opacity\": 0.9, \"type\": \"bar\", \"x\": [1, 2, 3, 4, 5, 6, 7, 8, 9, 10, 11, 12, 13, 14, 15, 16, 17, 18, 19, 20, 21, 22, 23, 24, 25, 26, 27, 28, 29, 30, 31], \"y\": [17969, 20494, 20477, 17969, 20525, 20876, 19064, 19552, 20731, 19930, 14776, 19664, 20371, 18910, 19573, 20502, 19216, 14889, 17964, 20190, 19036, 19579, 20609, 20409, 15900, 19857, 20235, 19028, 19614, 20667, 20692]}, {\"line\": {\"color\": \"firebrick\"}, \"name\": \"Rerouting trend\", \"type\": \"scatter\", \"x\": [1, 2, 3, 4, 5, 6, 7, 8, 9, 10, 11, 12, 13, 14, 15, 16, 17, 18, 19, 20, 21, 22, 23, 24, 25, 26, 27, 28, 29, 30, 31], \"y\": [17969, 20494, 20477, 17969, 20525, 20876, 19064, 19552, 20731, 19930, 14776, 19664, 20371, 18910, 19573, 20502, 19216, 14889, 17964, 20190, 19036, 19579, 20609, 20409, 15900, 19857, 20235, 19028, 19614, 20667, 20692]}],\n",
              "                        {\"template\": {\"data\": {\"bar\": [{\"error_x\": {\"color\": \"#2a3f5f\"}, \"error_y\": {\"color\": \"#2a3f5f\"}, \"marker\": {\"line\": {\"color\": \"#E5ECF6\", \"width\": 0.5}}, \"type\": \"bar\"}], \"barpolar\": [{\"marker\": {\"line\": {\"color\": \"#E5ECF6\", \"width\": 0.5}}, \"type\": \"barpolar\"}], \"carpet\": [{\"aaxis\": {\"endlinecolor\": \"#2a3f5f\", \"gridcolor\": \"white\", \"linecolor\": \"white\", \"minorgridcolor\": \"white\", \"startlinecolor\": \"#2a3f5f\"}, \"baxis\": {\"endlinecolor\": \"#2a3f5f\", \"gridcolor\": \"white\", \"linecolor\": \"white\", \"minorgridcolor\": \"white\", \"startlinecolor\": \"#2a3f5f\"}, \"type\": \"carpet\"}], \"choropleth\": [{\"colorbar\": {\"outlinewidth\": 0, \"ticks\": \"\"}, \"type\": \"choropleth\"}], \"contour\": [{\"colorbar\": {\"outlinewidth\": 0, \"ticks\": \"\"}, \"colorscale\": [[0.0, \"#0d0887\"], [0.1111111111111111, \"#46039f\"], [0.2222222222222222, \"#7201a8\"], [0.3333333333333333, \"#9c179e\"], [0.4444444444444444, \"#bd3786\"], [0.5555555555555556, \"#d8576b\"], [0.6666666666666666, \"#ed7953\"], [0.7777777777777778, \"#fb9f3a\"], [0.8888888888888888, \"#fdca26\"], [1.0, \"#f0f921\"]], \"type\": \"contour\"}], \"contourcarpet\": [{\"colorbar\": {\"outlinewidth\": 0, \"ticks\": \"\"}, \"type\": \"contourcarpet\"}], \"heatmap\": [{\"colorbar\": {\"outlinewidth\": 0, \"ticks\": \"\"}, \"colorscale\": [[0.0, \"#0d0887\"], [0.1111111111111111, \"#46039f\"], [0.2222222222222222, \"#7201a8\"], [0.3333333333333333, \"#9c179e\"], [0.4444444444444444, \"#bd3786\"], [0.5555555555555556, \"#d8576b\"], [0.6666666666666666, \"#ed7953\"], [0.7777777777777778, \"#fb9f3a\"], [0.8888888888888888, \"#fdca26\"], [1.0, \"#f0f921\"]], \"type\": \"heatmap\"}], \"heatmapgl\": [{\"colorbar\": {\"outlinewidth\": 0, \"ticks\": \"\"}, \"colorscale\": [[0.0, \"#0d0887\"], [0.1111111111111111, \"#46039f\"], [0.2222222222222222, \"#7201a8\"], [0.3333333333333333, \"#9c179e\"], [0.4444444444444444, \"#bd3786\"], [0.5555555555555556, \"#d8576b\"], [0.6666666666666666, \"#ed7953\"], [0.7777777777777778, \"#fb9f3a\"], [0.8888888888888888, \"#fdca26\"], [1.0, \"#f0f921\"]], \"type\": \"heatmapgl\"}], \"histogram\": [{\"marker\": {\"colorbar\": {\"outlinewidth\": 0, \"ticks\": \"\"}}, \"type\": \"histogram\"}], \"histogram2d\": [{\"colorbar\": {\"outlinewidth\": 0, \"ticks\": \"\"}, \"colorscale\": [[0.0, \"#0d0887\"], [0.1111111111111111, \"#46039f\"], [0.2222222222222222, \"#7201a8\"], [0.3333333333333333, \"#9c179e\"], [0.4444444444444444, \"#bd3786\"], [0.5555555555555556, \"#d8576b\"], [0.6666666666666666, \"#ed7953\"], [0.7777777777777778, \"#fb9f3a\"], [0.8888888888888888, \"#fdca26\"], [1.0, \"#f0f921\"]], \"type\": \"histogram2d\"}], \"histogram2dcontour\": [{\"colorbar\": {\"outlinewidth\": 0, \"ticks\": \"\"}, \"colorscale\": [[0.0, \"#0d0887\"], [0.1111111111111111, \"#46039f\"], [0.2222222222222222, \"#7201a8\"], [0.3333333333333333, \"#9c179e\"], [0.4444444444444444, \"#bd3786\"], [0.5555555555555556, \"#d8576b\"], [0.6666666666666666, \"#ed7953\"], [0.7777777777777778, \"#fb9f3a\"], [0.8888888888888888, \"#fdca26\"], [1.0, \"#f0f921\"]], \"type\": \"histogram2dcontour\"}], \"mesh3d\": [{\"colorbar\": {\"outlinewidth\": 0, \"ticks\": \"\"}, \"type\": \"mesh3d\"}], \"parcoords\": [{\"line\": {\"colorbar\": {\"outlinewidth\": 0, \"ticks\": \"\"}}, \"type\": \"parcoords\"}], \"pie\": [{\"automargin\": true, \"type\": \"pie\"}], \"scatter\": [{\"marker\": {\"colorbar\": {\"outlinewidth\": 0, \"ticks\": \"\"}}, \"type\": \"scatter\"}], \"scatter3d\": [{\"line\": {\"colorbar\": {\"outlinewidth\": 0, \"ticks\": \"\"}}, \"marker\": {\"colorbar\": {\"outlinewidth\": 0, \"ticks\": \"\"}}, \"type\": \"scatter3d\"}], \"scattercarpet\": [{\"marker\": {\"colorbar\": {\"outlinewidth\": 0, \"ticks\": \"\"}}, \"type\": \"scattercarpet\"}], \"scattergeo\": [{\"marker\": {\"colorbar\": {\"outlinewidth\": 0, \"ticks\": \"\"}}, \"type\": \"scattergeo\"}], \"scattergl\": [{\"marker\": {\"colorbar\": {\"outlinewidth\": 0, \"ticks\": \"\"}}, \"type\": \"scattergl\"}], \"scattermapbox\": [{\"marker\": {\"colorbar\": {\"outlinewidth\": 0, \"ticks\": \"\"}}, \"type\": \"scattermapbox\"}], \"scatterpolar\": [{\"marker\": {\"colorbar\": {\"outlinewidth\": 0, \"ticks\": \"\"}}, \"type\": \"scatterpolar\"}], \"scatterpolargl\": [{\"marker\": {\"colorbar\": {\"outlinewidth\": 0, \"ticks\": \"\"}}, \"type\": \"scatterpolargl\"}], \"scatterternary\": [{\"marker\": {\"colorbar\": {\"outlinewidth\": 0, \"ticks\": \"\"}}, \"type\": \"scatterternary\"}], \"surface\": [{\"colorbar\": {\"outlinewidth\": 0, \"ticks\": \"\"}, \"colorscale\": [[0.0, \"#0d0887\"], [0.1111111111111111, \"#46039f\"], [0.2222222222222222, \"#7201a8\"], [0.3333333333333333, \"#9c179e\"], [0.4444444444444444, \"#bd3786\"], [0.5555555555555556, \"#d8576b\"], [0.6666666666666666, \"#ed7953\"], [0.7777777777777778, \"#fb9f3a\"], [0.8888888888888888, \"#fdca26\"], [1.0, \"#f0f921\"]], \"type\": \"surface\"}], \"table\": [{\"cells\": {\"fill\": {\"color\": \"#EBF0F8\"}, \"line\": {\"color\": \"white\"}}, \"header\": {\"fill\": {\"color\": \"#C8D4E3\"}, \"line\": {\"color\": \"white\"}}, \"type\": \"table\"}]}, \"layout\": {\"annotationdefaults\": {\"arrowcolor\": \"#2a3f5f\", \"arrowhead\": 0, \"arrowwidth\": 1}, \"coloraxis\": {\"colorbar\": {\"outlinewidth\": 0, \"ticks\": \"\"}}, \"colorscale\": {\"diverging\": [[0, \"#8e0152\"], [0.1, \"#c51b7d\"], [0.2, \"#de77ae\"], [0.3, \"#f1b6da\"], [0.4, \"#fde0ef\"], [0.5, \"#f7f7f7\"], [0.6, \"#e6f5d0\"], [0.7, \"#b8e186\"], [0.8, \"#7fbc41\"], [0.9, \"#4d9221\"], [1, \"#276419\"]], \"sequential\": [[0.0, \"#0d0887\"], [0.1111111111111111, \"#46039f\"], [0.2222222222222222, \"#7201a8\"], [0.3333333333333333, \"#9c179e\"], [0.4444444444444444, \"#bd3786\"], [0.5555555555555556, \"#d8576b\"], [0.6666666666666666, \"#ed7953\"], [0.7777777777777778, \"#fb9f3a\"], [0.8888888888888888, \"#fdca26\"], [1.0, \"#f0f921\"]], \"sequentialminus\": [[0.0, \"#0d0887\"], [0.1111111111111111, \"#46039f\"], [0.2222222222222222, \"#7201a8\"], [0.3333333333333333, \"#9c179e\"], [0.4444444444444444, \"#bd3786\"], [0.5555555555555556, \"#d8576b\"], [0.6666666666666666, \"#ed7953\"], [0.7777777777777778, \"#fb9f3a\"], [0.8888888888888888, \"#fdca26\"], [1.0, \"#f0f921\"]]}, \"colorway\": [\"#636efa\", \"#EF553B\", \"#00cc96\", \"#ab63fa\", \"#FFA15A\", \"#19d3f3\", \"#FF6692\", \"#B6E880\", \"#FF97FF\", \"#FECB52\"], \"font\": {\"color\": \"#2a3f5f\"}, \"geo\": {\"bgcolor\": \"white\", \"lakecolor\": \"white\", \"landcolor\": \"#E5ECF6\", \"showlakes\": true, \"showland\": true, \"subunitcolor\": \"white\"}, \"hoverlabel\": {\"align\": \"left\"}, \"hovermode\": \"closest\", \"mapbox\": {\"style\": \"light\"}, \"paper_bgcolor\": \"white\", \"plot_bgcolor\": \"#E5ECF6\", \"polar\": {\"angularaxis\": {\"gridcolor\": \"white\", \"linecolor\": \"white\", \"ticks\": \"\"}, \"bgcolor\": \"#E5ECF6\", \"radialaxis\": {\"gridcolor\": \"white\", \"linecolor\": \"white\", \"ticks\": \"\"}}, \"scene\": {\"xaxis\": {\"backgroundcolor\": \"#E5ECF6\", \"gridcolor\": \"white\", \"gridwidth\": 2, \"linecolor\": \"white\", \"showbackground\": true, \"ticks\": \"\", \"zerolinecolor\": \"white\"}, \"yaxis\": {\"backgroundcolor\": \"#E5ECF6\", \"gridcolor\": \"white\", \"gridwidth\": 2, \"linecolor\": \"white\", \"showbackground\": true, \"ticks\": \"\", \"zerolinecolor\": \"white\"}, \"zaxis\": {\"backgroundcolor\": \"#E5ECF6\", \"gridcolor\": \"white\", \"gridwidth\": 2, \"linecolor\": \"white\", \"showbackground\": true, \"ticks\": \"\", \"zerolinecolor\": \"white\"}}, \"shapedefaults\": {\"line\": {\"color\": \"#2a3f5f\"}}, \"ternary\": {\"aaxis\": {\"gridcolor\": \"white\", \"linecolor\": \"white\", \"ticks\": \"\"}, \"baxis\": {\"gridcolor\": \"white\", \"linecolor\": \"white\", \"ticks\": \"\"}, \"bgcolor\": \"#E5ECF6\", \"caxis\": {\"gridcolor\": \"white\", \"linecolor\": \"white\", \"ticks\": \"\"}}, \"title\": {\"x\": 0.05}, \"xaxis\": {\"automargin\": true, \"gridcolor\": \"white\", \"linecolor\": \"white\", \"ticks\": \"\", \"title\": {\"standoff\": 15}, \"zerolinecolor\": \"white\", \"zerolinewidth\": 2}, \"yaxis\": {\"automargin\": true, \"gridcolor\": \"white\", \"linecolor\": \"white\", \"ticks\": \"\", \"title\": {\"standoff\": 15}, \"zerolinecolor\": \"white\", \"zerolinewidth\": 2}}}, \"title\": {\"text\": \"Checking the seasonality in rerouting\"}, \"xaxis\": {\"title\": {\"text\": \"Day of month\"}}, \"yaxis\": {\"title\": {\"text\": \"Reroutings count\"}}},\n",
              "                        {\"responsive\": true}\n",
              "                    ).then(function(){\n",
              "                            \n",
              "var gd = document.getElementById('ddc25fe3-34b5-4eb2-9179-10ee273c69bb');\n",
              "var x = new MutationObserver(function (mutations, observer) {{\n",
              "        var display = window.getComputedStyle(gd).display;\n",
              "        if (!display || display === 'none') {{\n",
              "            console.log([gd, 'removed!']);\n",
              "            Plotly.purge(gd);\n",
              "            observer.disconnect();\n",
              "        }}\n",
              "}});\n",
              "\n",
              "// Listen for the removal of the full notebook cells\n",
              "var notebookContainer = gd.closest('#notebook-container');\n",
              "if (notebookContainer) {{\n",
              "    x.observe(notebookContainer, {childList: true});\n",
              "}}\n",
              "\n",
              "// Listen for the clearing of the current output cell\n",
              "var outputEl = gd.closest('.output');\n",
              "if (outputEl) {{\n",
              "    x.observe(outputEl, {childList: true});\n",
              "}}\n",
              "\n",
              "                        })\n",
              "                };\n",
              "                \n",
              "            </script>\n",
              "        </div>\n",
              "</body>\n",
              "</html>"
            ]
          },
          "metadata": {
            "tags": []
          }
        }
      ]
    },
    {
      "cell_type": "markdown",
      "metadata": {
        "id": "pACWHrItRSbC",
        "colab_type": "text"
      },
      "source": [
        "Inferences \n",
        "\n",
        "\n",
        "*   From the above two graphs it can be seen that 1,4,11,18,25 have least cancelled and rerouted flights. They have 7 days of gap in between. \n",
        "*   Similarly, dates 2,3,10,17,24 have most cancelled flights and rerouted flights. They also have 7 days of gap in them. \n",
        "\n",
        "\n",
        "\n",
        "---\n",
        "\n"
      ]
    },
    {
      "cell_type": "code",
      "metadata": {
        "id": "DcOAtb_DTAwc",
        "colab_type": "code",
        "colab": {
          "base_uri": "https://localhost:8080/",
          "height": 155
        },
        "outputId": "a7417afd-0783-42b5-f63c-717aef14d170"
      },
      "source": [
        "import calendar\n",
        "yy = 2020 \n",
        "mm = 1    \n",
        "print(calendar.month(yy, mm))"
      ],
      "execution_count": null,
      "outputs": [
        {
          "output_type": "stream",
          "text": [
            "    January 2020\n",
            "Mo Tu We Th Fr Sa Su\n",
            "       1  2  3  4  5\n",
            " 6  7  8  9 10 11 12\n",
            "13 14 15 16 17 18 19\n",
            "20 21 22 23 24 25 26\n",
            "27 28 29 30 31\n",
            "\n"
          ],
          "name": "stdout"
        }
      ]
    },
    {
      "cell_type": "markdown",
      "metadata": {
        "id": "0vbnVuQDTJ3D",
        "colab_type": "text"
      },
      "source": [
        "Inferences\n",
        "\n",
        "From the above calendar for 2020 we can confirm that there is seasonality in the cancellations and rerouting flights.\n",
        "*   Saturday's in the month have least cancelled and rerouted flights.\n",
        "*   Friday's and Thursday in the month have highest no. of cancellations and rerouted flights. \n",
        "\n",
        "---\n",
        "\n",
        "\n",
        "\n"
      ]
    },
    {
      "cell_type": "code",
      "metadata": {
        "id": "MsSdS5W9yFC0",
        "colab_type": "code",
        "colab": {
          "base_uri": "https://localhost:8080/",
          "height": 34
        },
        "outputId": "4f0c0cca-eb76-4bfa-efcd-0245b70587f9"
      },
      "source": [
        "#Checking if plots are same for cancellations and rerouting. \n",
        "all(Cancelled_flights== Diverted_flights)"
      ],
      "execution_count": null,
      "outputs": [
        {
          "output_type": "execute_result",
          "data": {
            "text/plain": [
              "True"
            ]
          },
          "metadata": {
            "tags": []
          },
          "execution_count": 18
        }
      ]
    },
    {
      "cell_type": "markdown",
      "metadata": {
        "id": "ghfNvkcNlbPi",
        "colab_type": "text"
      },
      "source": [
        "##Droppping a Diverted Column\n",
        "From the above we can see that `Cancelled` and `Diverted` columns are returing same values. Therefore, we can drop one column since the other doesn't provide different observations. IF we do not drop the column then it will have multicollinerity issues. Moreover, the column will not be a good feautre to run the algorithm. \n",
        "\n"
      ]
    },
    {
      "cell_type": "code",
      "metadata": {
        "id": "9qCt54nOmYdT",
        "colab_type": "code",
        "colab": {}
      },
      "source": [
        "flights.drop(['DIVERTED'], inplace= True, axis =1)"
      ],
      "execution_count": null,
      "outputs": []
    },
    {
      "cell_type": "code",
      "metadata": {
        "id": "9P7JMRGUorJz",
        "colab_type": "code",
        "colab": {}
      },
      "source": [
        "plot6 = df_19.groupby('OP_CARRIER')['DEP_DEL15'].sum().sort_values()\n",
        "fig6 = px.pie(names=plot6.index,values=list(map(int,plot6.values)),\n",
        "              color_discrete_sequence =px.colors.qualitative.T10, hole=0.5, title='Airlines with most delayed flights')\n",
        "fig6.show()\n"
      ],
      "execution_count": null,
      "outputs": []
    },
    {
      "cell_type": "code",
      "metadata": {
        "id": "TQBt9BBYqAQg",
        "colab_type": "code",
        "colab": {}
      },
      "source": [
        "# delayed flights show 1 on the df, which means True\n",
        "delayed_flights = flights[flights['DEP_DEL15'] == 1]\n",
        "f, ax = plt.subplots()\n",
        "# counts how many times flight was delayed on each day of the week\n",
        "sns.countplot(x= delayed_flights['DAY_OF_WEEK'], color= 'b')\n",
        "f.set_size_inches(8,10)"
      ],
      "execution_count": null,
      "outputs": []
    },
    {
      "cell_type": "code",
      "metadata": {
        "id": "1HqrRaD76HwH",
        "colab_type": "code",
        "colab": {}
      },
      "source": [
        "# counts how many times flights were delayed in each day of a month\n",
        "f, ax = plt.subplots()\n",
        "sns.countplot(x= delayed_flights['DAY_OF_MONTH'], color= 'b')\n",
        "f.set_size_inches(10, 5)"
      ],
      "execution_count": null,
      "outputs": []
    },
    {
      "cell_type": "code",
      "metadata": {
        "id": "baRMr6Rd6ah-",
        "colab_type": "code",
        "colab": {}
      },
      "source": [
        "# counts how many times carrier airlines had delayed flights\n",
        "f, ax = plt.subplots()\n",
        "sns.countplot(x= delayed_flights['OP_CARRIER_AIRLINE_ID'], color= 'b')\n",
        "f.set_size_inches(10, 5)"
      ],
      "execution_count": null,
      "outputs": []
    },
    {
      "cell_type": "code",
      "metadata": {
        "id": "vMScJpk25v4b",
        "colab_type": "code",
        "colab": {}
      },
      "source": [
        "# counts how many times flights were delayed in a certain interval of time\n",
        "f, ax = plt.subplots()\n",
        "sns.countplot(x= delayed_flights['DEP_TIME_BLK'], color= 'b')\n",
        "# sets x axis labels and rotates it to make it easier to read\n",
        "# I set rotation = 70 to help align it a bit more since 45 kinda confused me a bit) - Celine\n",
        "ax.set_xticklabels(labels= delayed_flights['DEP_TIME_BLK'], rotation= 70)\n",
        "f.set_size_inches(10, 5)"
      ],
      "execution_count": null,
      "outputs": []
    },
    {
      "cell_type": "markdown",
      "metadata": {
        "id": "mpUtcwN-XMqW",
        "colab_type": "text"
      },
      "source": [
        "#**From Abstract***\n",
        "We will be implementing random forest classifier, decision tree. As far as decision tree are concerned gradient boosting algorithms will be used as an ensemble method. If we find any weak classifiers in the dataset, we would try to combine those weak classifiers into one and using Ada Boost classifier. Lastly, neural network by using keras will be used to learn about delays. So, random forest classifier, decision tree, gradient boosting, Ada Boost classifier, neural network by keras. "
      ]
    },
    {
      "cell_type": "markdown",
      "metadata": {
        "id": "G4KMwZSLXgsK",
        "colab_type": "text"
      },
      "source": [
        "#Problem:\n",
        "The problem we will tackle is predicting the number of flight delays using one year of past flight data\n",
        "\n",
        "#so it's       \n",
        "               Day of the Week v.s delayed flight \n",
        "              Day of the Month v.s delayed flight \n",
        "         OP Carrier Airline ID v.s delayed flight\n",
        "                 Dep Time Bulk v.s delayed flight\n",
        "\n"
      ]
    },
    {
      "cell_type": "markdown",
      "metadata": {
        "id": "pUZE_PFP3rxw",
        "colab_type": "text"
      },
      "source": [
        "Adding dummy variables for categorical variables: OP_UNIQUE_CARRIER', 'ORIGIN', 'DEST','DEP_TIME_BLK'"
      ]
    },
    {
      "cell_type": "code",
      "metadata": {
        "id": "sp4jF5ST3ecy",
        "colab_type": "code",
        "colab": {}
      },
      "source": [
        "df_dum = pd.get_dummies(df_red, columns = ['OP_UNIQUE_CARRIER', 'ORIGIN', 'DEST','DEP_TIME_BLK'])"
      ],
      "execution_count": 45,
      "outputs": []
    },
    {
      "cell_type": "code",
      "metadata": {
        "id": "LkF2xkhA3eYB",
        "colab_type": "code",
        "colab": {
          "base_uri": "https://localhost:8080/",
          "height": 256
        },
        "outputId": "e199e4be-1ad3-4f30-8b6e-55746b95fa74"
      },
      "source": [
        "df_dum.head()"
      ],
      "execution_count": 46,
      "outputs": [
        {
          "output_type": "execute_result",
          "data": {
            "text/html": [
              "<div>\n",
              "<style scoped>\n",
              "    .dataframe tbody tr th:only-of-type {\n",
              "        vertical-align: middle;\n",
              "    }\n",
              "\n",
              "    .dataframe tbody tr th {\n",
              "        vertical-align: top;\n",
              "    }\n",
              "\n",
              "    .dataframe thead th {\n",
              "        text-align: right;\n",
              "    }\n",
              "</style>\n",
              "<table border=\"1\" class=\"dataframe\">\n",
              "  <thead>\n",
              "    <tr style=\"text-align: right;\">\n",
              "      <th></th>\n",
              "      <th>DAY_OF_MONTH</th>\n",
              "      <th>DAY_OF_WEEK</th>\n",
              "      <th>DEP_DEL15</th>\n",
              "      <th>ARR_DEL15</th>\n",
              "      <th>DISTANCE</th>\n",
              "      <th>OP_UNIQUE_CARRIER_9E</th>\n",
              "      <th>OP_UNIQUE_CARRIER_AA</th>\n",
              "      <th>OP_UNIQUE_CARRIER_AS</th>\n",
              "      <th>OP_UNIQUE_CARRIER_B6</th>\n",
              "      <th>OP_UNIQUE_CARRIER_DL</th>\n",
              "      <th>OP_UNIQUE_CARRIER_EV</th>\n",
              "      <th>OP_UNIQUE_CARRIER_F9</th>\n",
              "      <th>OP_UNIQUE_CARRIER_G4</th>\n",
              "      <th>OP_UNIQUE_CARRIER_HA</th>\n",
              "      <th>OP_UNIQUE_CARRIER_MQ</th>\n",
              "      <th>OP_UNIQUE_CARRIER_NK</th>\n",
              "      <th>OP_UNIQUE_CARRIER_OH</th>\n",
              "      <th>OP_UNIQUE_CARRIER_OO</th>\n",
              "      <th>OP_UNIQUE_CARRIER_UA</th>\n",
              "      <th>OP_UNIQUE_CARRIER_WN</th>\n",
              "      <th>OP_UNIQUE_CARRIER_YV</th>\n",
              "      <th>OP_UNIQUE_CARRIER_YX</th>\n",
              "      <th>ORIGIN_ABE</th>\n",
              "      <th>ORIGIN_ABI</th>\n",
              "      <th>ORIGIN_ABQ</th>\n",
              "      <th>ORIGIN_ABR</th>\n",
              "      <th>ORIGIN_ABY</th>\n",
              "      <th>ORIGIN_ACT</th>\n",
              "      <th>ORIGIN_ACV</th>\n",
              "      <th>ORIGIN_ACY</th>\n",
              "      <th>ORIGIN_ADK</th>\n",
              "      <th>ORIGIN_ADQ</th>\n",
              "      <th>ORIGIN_AEX</th>\n",
              "      <th>ORIGIN_AGS</th>\n",
              "      <th>ORIGIN_ALB</th>\n",
              "      <th>ORIGIN_ALO</th>\n",
              "      <th>ORIGIN_AMA</th>\n",
              "      <th>ORIGIN_ANC</th>\n",
              "      <th>ORIGIN_APN</th>\n",
              "      <th>ORIGIN_ART</th>\n",
              "      <th>...</th>\n",
              "      <th>DEST_TOL</th>\n",
              "      <th>DEST_TPA</th>\n",
              "      <th>DEST_TRI</th>\n",
              "      <th>DEST_TTN</th>\n",
              "      <th>DEST_TUL</th>\n",
              "      <th>DEST_TUS</th>\n",
              "      <th>DEST_TVC</th>\n",
              "      <th>DEST_TWF</th>\n",
              "      <th>DEST_TXK</th>\n",
              "      <th>DEST_TYR</th>\n",
              "      <th>DEST_TYS</th>\n",
              "      <th>DEST_UIN</th>\n",
              "      <th>DEST_USA</th>\n",
              "      <th>DEST_VEL</th>\n",
              "      <th>DEST_VLD</th>\n",
              "      <th>DEST_VPS</th>\n",
              "      <th>DEST_WRG</th>\n",
              "      <th>DEST_XNA</th>\n",
              "      <th>DEST_XWA</th>\n",
              "      <th>DEST_YAK</th>\n",
              "      <th>DEST_YUM</th>\n",
              "      <th>DEP_TIME_BLK_0001-0559</th>\n",
              "      <th>DEP_TIME_BLK_0600-0659</th>\n",
              "      <th>DEP_TIME_BLK_0700-0759</th>\n",
              "      <th>DEP_TIME_BLK_0800-0859</th>\n",
              "      <th>DEP_TIME_BLK_0900-0959</th>\n",
              "      <th>DEP_TIME_BLK_1000-1059</th>\n",
              "      <th>DEP_TIME_BLK_1100-1159</th>\n",
              "      <th>DEP_TIME_BLK_1200-1259</th>\n",
              "      <th>DEP_TIME_BLK_1300-1359</th>\n",
              "      <th>DEP_TIME_BLK_1400-1459</th>\n",
              "      <th>DEP_TIME_BLK_1500-1559</th>\n",
              "      <th>DEP_TIME_BLK_1600-1659</th>\n",
              "      <th>DEP_TIME_BLK_1700-1759</th>\n",
              "      <th>DEP_TIME_BLK_1800-1859</th>\n",
              "      <th>DEP_TIME_BLK_1900-1959</th>\n",
              "      <th>DEP_TIME_BLK_2000-2059</th>\n",
              "      <th>DEP_TIME_BLK_2100-2159</th>\n",
              "      <th>DEP_TIME_BLK_2200-2259</th>\n",
              "      <th>DEP_TIME_BLK_2300-2359</th>\n",
              "    </tr>\n",
              "  </thead>\n",
              "  <tbody>\n",
              "    <tr>\n",
              "      <th>0</th>\n",
              "      <td>1</td>\n",
              "      <td>2</td>\n",
              "      <td>0.0</td>\n",
              "      <td>0.0</td>\n",
              "      <td>300.0</td>\n",
              "      <td>1</td>\n",
              "      <td>0</td>\n",
              "      <td>0</td>\n",
              "      <td>0</td>\n",
              "      <td>0</td>\n",
              "      <td>0</td>\n",
              "      <td>0</td>\n",
              "      <td>0</td>\n",
              "      <td>0</td>\n",
              "      <td>0</td>\n",
              "      <td>0</td>\n",
              "      <td>0</td>\n",
              "      <td>0</td>\n",
              "      <td>0</td>\n",
              "      <td>0</td>\n",
              "      <td>0</td>\n",
              "      <td>0</td>\n",
              "      <td>0</td>\n",
              "      <td>0</td>\n",
              "      <td>0</td>\n",
              "      <td>0</td>\n",
              "      <td>0</td>\n",
              "      <td>0</td>\n",
              "      <td>0</td>\n",
              "      <td>0</td>\n",
              "      <td>0</td>\n",
              "      <td>0</td>\n",
              "      <td>0</td>\n",
              "      <td>0</td>\n",
              "      <td>0</td>\n",
              "      <td>0</td>\n",
              "      <td>0</td>\n",
              "      <td>0</td>\n",
              "      <td>0</td>\n",
              "      <td>0</td>\n",
              "      <td>...</td>\n",
              "      <td>0</td>\n",
              "      <td>0</td>\n",
              "      <td>0</td>\n",
              "      <td>0</td>\n",
              "      <td>0</td>\n",
              "      <td>0</td>\n",
              "      <td>0</td>\n",
              "      <td>0</td>\n",
              "      <td>0</td>\n",
              "      <td>0</td>\n",
              "      <td>0</td>\n",
              "      <td>0</td>\n",
              "      <td>0</td>\n",
              "      <td>0</td>\n",
              "      <td>0</td>\n",
              "      <td>0</td>\n",
              "      <td>0</td>\n",
              "      <td>0</td>\n",
              "      <td>0</td>\n",
              "      <td>0</td>\n",
              "      <td>0</td>\n",
              "      <td>0</td>\n",
              "      <td>1</td>\n",
              "      <td>0</td>\n",
              "      <td>0</td>\n",
              "      <td>0</td>\n",
              "      <td>0</td>\n",
              "      <td>0</td>\n",
              "      <td>0</td>\n",
              "      <td>0</td>\n",
              "      <td>0</td>\n",
              "      <td>0</td>\n",
              "      <td>0</td>\n",
              "      <td>0</td>\n",
              "      <td>0</td>\n",
              "      <td>0</td>\n",
              "      <td>0</td>\n",
              "      <td>0</td>\n",
              "      <td>0</td>\n",
              "      <td>0</td>\n",
              "    </tr>\n",
              "    <tr>\n",
              "      <th>1</th>\n",
              "      <td>1</td>\n",
              "      <td>2</td>\n",
              "      <td>0.0</td>\n",
              "      <td>0.0</td>\n",
              "      <td>596.0</td>\n",
              "      <td>1</td>\n",
              "      <td>0</td>\n",
              "      <td>0</td>\n",
              "      <td>0</td>\n",
              "      <td>0</td>\n",
              "      <td>0</td>\n",
              "      <td>0</td>\n",
              "      <td>0</td>\n",
              "      <td>0</td>\n",
              "      <td>0</td>\n",
              "      <td>0</td>\n",
              "      <td>0</td>\n",
              "      <td>0</td>\n",
              "      <td>0</td>\n",
              "      <td>0</td>\n",
              "      <td>0</td>\n",
              "      <td>0</td>\n",
              "      <td>0</td>\n",
              "      <td>0</td>\n",
              "      <td>0</td>\n",
              "      <td>0</td>\n",
              "      <td>0</td>\n",
              "      <td>0</td>\n",
              "      <td>0</td>\n",
              "      <td>0</td>\n",
              "      <td>0</td>\n",
              "      <td>0</td>\n",
              "      <td>0</td>\n",
              "      <td>0</td>\n",
              "      <td>0</td>\n",
              "      <td>0</td>\n",
              "      <td>0</td>\n",
              "      <td>0</td>\n",
              "      <td>0</td>\n",
              "      <td>0</td>\n",
              "      <td>...</td>\n",
              "      <td>0</td>\n",
              "      <td>0</td>\n",
              "      <td>0</td>\n",
              "      <td>0</td>\n",
              "      <td>0</td>\n",
              "      <td>0</td>\n",
              "      <td>0</td>\n",
              "      <td>0</td>\n",
              "      <td>0</td>\n",
              "      <td>0</td>\n",
              "      <td>0</td>\n",
              "      <td>0</td>\n",
              "      <td>0</td>\n",
              "      <td>0</td>\n",
              "      <td>0</td>\n",
              "      <td>0</td>\n",
              "      <td>0</td>\n",
              "      <td>0</td>\n",
              "      <td>0</td>\n",
              "      <td>0</td>\n",
              "      <td>0</td>\n",
              "      <td>0</td>\n",
              "      <td>0</td>\n",
              "      <td>0</td>\n",
              "      <td>0</td>\n",
              "      <td>0</td>\n",
              "      <td>0</td>\n",
              "      <td>0</td>\n",
              "      <td>0</td>\n",
              "      <td>0</td>\n",
              "      <td>1</td>\n",
              "      <td>0</td>\n",
              "      <td>0</td>\n",
              "      <td>0</td>\n",
              "      <td>0</td>\n",
              "      <td>0</td>\n",
              "      <td>0</td>\n",
              "      <td>0</td>\n",
              "      <td>0</td>\n",
              "      <td>0</td>\n",
              "    </tr>\n",
              "    <tr>\n",
              "      <th>2</th>\n",
              "      <td>1</td>\n",
              "      <td>2</td>\n",
              "      <td>0.0</td>\n",
              "      <td>0.0</td>\n",
              "      <td>229.0</td>\n",
              "      <td>1</td>\n",
              "      <td>0</td>\n",
              "      <td>0</td>\n",
              "      <td>0</td>\n",
              "      <td>0</td>\n",
              "      <td>0</td>\n",
              "      <td>0</td>\n",
              "      <td>0</td>\n",
              "      <td>0</td>\n",
              "      <td>0</td>\n",
              "      <td>0</td>\n",
              "      <td>0</td>\n",
              "      <td>0</td>\n",
              "      <td>0</td>\n",
              "      <td>0</td>\n",
              "      <td>0</td>\n",
              "      <td>0</td>\n",
              "      <td>0</td>\n",
              "      <td>0</td>\n",
              "      <td>0</td>\n",
              "      <td>0</td>\n",
              "      <td>0</td>\n",
              "      <td>0</td>\n",
              "      <td>0</td>\n",
              "      <td>0</td>\n",
              "      <td>0</td>\n",
              "      <td>0</td>\n",
              "      <td>0</td>\n",
              "      <td>0</td>\n",
              "      <td>0</td>\n",
              "      <td>0</td>\n",
              "      <td>0</td>\n",
              "      <td>0</td>\n",
              "      <td>0</td>\n",
              "      <td>0</td>\n",
              "      <td>...</td>\n",
              "      <td>0</td>\n",
              "      <td>0</td>\n",
              "      <td>0</td>\n",
              "      <td>0</td>\n",
              "      <td>0</td>\n",
              "      <td>0</td>\n",
              "      <td>0</td>\n",
              "      <td>0</td>\n",
              "      <td>0</td>\n",
              "      <td>0</td>\n",
              "      <td>0</td>\n",
              "      <td>0</td>\n",
              "      <td>0</td>\n",
              "      <td>0</td>\n",
              "      <td>0</td>\n",
              "      <td>0</td>\n",
              "      <td>0</td>\n",
              "      <td>0</td>\n",
              "      <td>0</td>\n",
              "      <td>0</td>\n",
              "      <td>0</td>\n",
              "      <td>0</td>\n",
              "      <td>0</td>\n",
              "      <td>0</td>\n",
              "      <td>0</td>\n",
              "      <td>0</td>\n",
              "      <td>0</td>\n",
              "      <td>0</td>\n",
              "      <td>1</td>\n",
              "      <td>0</td>\n",
              "      <td>0</td>\n",
              "      <td>0</td>\n",
              "      <td>0</td>\n",
              "      <td>0</td>\n",
              "      <td>0</td>\n",
              "      <td>0</td>\n",
              "      <td>0</td>\n",
              "      <td>0</td>\n",
              "      <td>0</td>\n",
              "      <td>0</td>\n",
              "    </tr>\n",
              "    <tr>\n",
              "      <th>3</th>\n",
              "      <td>1</td>\n",
              "      <td>2</td>\n",
              "      <td>0.0</td>\n",
              "      <td>0.0</td>\n",
              "      <td>223.0</td>\n",
              "      <td>1</td>\n",
              "      <td>0</td>\n",
              "      <td>0</td>\n",
              "      <td>0</td>\n",
              "      <td>0</td>\n",
              "      <td>0</td>\n",
              "      <td>0</td>\n",
              "      <td>0</td>\n",
              "      <td>0</td>\n",
              "      <td>0</td>\n",
              "      <td>0</td>\n",
              "      <td>0</td>\n",
              "      <td>0</td>\n",
              "      <td>0</td>\n",
              "      <td>0</td>\n",
              "      <td>0</td>\n",
              "      <td>0</td>\n",
              "      <td>0</td>\n",
              "      <td>0</td>\n",
              "      <td>0</td>\n",
              "      <td>0</td>\n",
              "      <td>0</td>\n",
              "      <td>0</td>\n",
              "      <td>0</td>\n",
              "      <td>0</td>\n",
              "      <td>0</td>\n",
              "      <td>0</td>\n",
              "      <td>0</td>\n",
              "      <td>0</td>\n",
              "      <td>0</td>\n",
              "      <td>0</td>\n",
              "      <td>0</td>\n",
              "      <td>0</td>\n",
              "      <td>0</td>\n",
              "      <td>0</td>\n",
              "      <td>...</td>\n",
              "      <td>0</td>\n",
              "      <td>0</td>\n",
              "      <td>0</td>\n",
              "      <td>0</td>\n",
              "      <td>0</td>\n",
              "      <td>0</td>\n",
              "      <td>0</td>\n",
              "      <td>0</td>\n",
              "      <td>0</td>\n",
              "      <td>0</td>\n",
              "      <td>0</td>\n",
              "      <td>0</td>\n",
              "      <td>0</td>\n",
              "      <td>0</td>\n",
              "      <td>0</td>\n",
              "      <td>0</td>\n",
              "      <td>0</td>\n",
              "      <td>0</td>\n",
              "      <td>0</td>\n",
              "      <td>0</td>\n",
              "      <td>0</td>\n",
              "      <td>0</td>\n",
              "      <td>0</td>\n",
              "      <td>0</td>\n",
              "      <td>0</td>\n",
              "      <td>0</td>\n",
              "      <td>0</td>\n",
              "      <td>0</td>\n",
              "      <td>0</td>\n",
              "      <td>0</td>\n",
              "      <td>0</td>\n",
              "      <td>1</td>\n",
              "      <td>0</td>\n",
              "      <td>0</td>\n",
              "      <td>0</td>\n",
              "      <td>0</td>\n",
              "      <td>0</td>\n",
              "      <td>0</td>\n",
              "      <td>0</td>\n",
              "      <td>0</td>\n",
              "    </tr>\n",
              "    <tr>\n",
              "      <th>4</th>\n",
              "      <td>1</td>\n",
              "      <td>2</td>\n",
              "      <td>0.0</td>\n",
              "      <td>0.0</td>\n",
              "      <td>579.0</td>\n",
              "      <td>1</td>\n",
              "      <td>0</td>\n",
              "      <td>0</td>\n",
              "      <td>0</td>\n",
              "      <td>0</td>\n",
              "      <td>0</td>\n",
              "      <td>0</td>\n",
              "      <td>0</td>\n",
              "      <td>0</td>\n",
              "      <td>0</td>\n",
              "      <td>0</td>\n",
              "      <td>0</td>\n",
              "      <td>0</td>\n",
              "      <td>0</td>\n",
              "      <td>0</td>\n",
              "      <td>0</td>\n",
              "      <td>0</td>\n",
              "      <td>0</td>\n",
              "      <td>0</td>\n",
              "      <td>0</td>\n",
              "      <td>0</td>\n",
              "      <td>0</td>\n",
              "      <td>0</td>\n",
              "      <td>0</td>\n",
              "      <td>0</td>\n",
              "      <td>0</td>\n",
              "      <td>0</td>\n",
              "      <td>0</td>\n",
              "      <td>0</td>\n",
              "      <td>0</td>\n",
              "      <td>0</td>\n",
              "      <td>0</td>\n",
              "      <td>0</td>\n",
              "      <td>0</td>\n",
              "      <td>0</td>\n",
              "      <td>...</td>\n",
              "      <td>0</td>\n",
              "      <td>0</td>\n",
              "      <td>0</td>\n",
              "      <td>0</td>\n",
              "      <td>0</td>\n",
              "      <td>0</td>\n",
              "      <td>0</td>\n",
              "      <td>0</td>\n",
              "      <td>0</td>\n",
              "      <td>0</td>\n",
              "      <td>0</td>\n",
              "      <td>0</td>\n",
              "      <td>0</td>\n",
              "      <td>0</td>\n",
              "      <td>0</td>\n",
              "      <td>0</td>\n",
              "      <td>0</td>\n",
              "      <td>0</td>\n",
              "      <td>0</td>\n",
              "      <td>0</td>\n",
              "      <td>0</td>\n",
              "      <td>0</td>\n",
              "      <td>0</td>\n",
              "      <td>0</td>\n",
              "      <td>0</td>\n",
              "      <td>0</td>\n",
              "      <td>0</td>\n",
              "      <td>0</td>\n",
              "      <td>0</td>\n",
              "      <td>0</td>\n",
              "      <td>0</td>\n",
              "      <td>0</td>\n",
              "      <td>0</td>\n",
              "      <td>0</td>\n",
              "      <td>0</td>\n",
              "      <td>1</td>\n",
              "      <td>0</td>\n",
              "      <td>0</td>\n",
              "      <td>0</td>\n",
              "      <td>0</td>\n",
              "    </tr>\n",
              "  </tbody>\n",
              "</table>\n",
              "<p>5 rows × 747 columns</p>\n",
              "</div>"
            ],
            "text/plain": [
              "   DAY_OF_MONTH  DAY_OF_WEEK  ...  DEP_TIME_BLK_2200-2259  DEP_TIME_BLK_2300-2359\n",
              "0             1            2  ...                       0                       0\n",
              "1             1            2  ...                       0                       0\n",
              "2             1            2  ...                       0                       0\n",
              "3             1            2  ...                       0                       0\n",
              "4             1            2  ...                       0                       0\n",
              "\n",
              "[5 rows x 747 columns]"
            ]
          },
          "metadata": {
            "tags": []
          },
          "execution_count": 46
        }
      ]
    },
    {
      "cell_type": "markdown",
      "metadata": {
        "id": "QEna8CtX39xB",
        "colab_type": "text"
      },
      "source": [
        "A very large number of dimensions..."
      ]
    },
    {
      "cell_type": "markdown",
      "metadata": {
        "id": "GOgiy0S44DQB",
        "colab_type": "text"
      },
      "source": [
        "Modeling"
      ]
    },
    {
      "cell_type": "markdown",
      "metadata": {
        "id": "gsKImCcT4Gr4",
        "colab_type": "text"
      },
      "source": [
        "#**Logistic Regression**"
      ]
    },
    {
      "cell_type": "code",
      "metadata": {
        "id": "x-ntJDyt3eTE",
        "colab_type": "code",
        "colab": {}
      },
      "source": [
        "X = df_dum.drop(['ARR_DEL15'], axis = 1)\n",
        "y = df_dum['ARR_DEL15']"
      ],
      "execution_count": 47,
      "outputs": []
    },
    {
      "cell_type": "code",
      "metadata": {
        "id": "TKFFMkVx3eOp",
        "colab_type": "code",
        "colab": {}
      },
      "source": [
        "X_train, X_test, y_train, y_test = train_test_split(X, y, test_size=0.5) # 50% training and 50% test"
      ],
      "execution_count": 48,
      "outputs": []
    },
    {
      "cell_type": "code",
      "metadata": {
        "id": "b47Jj9lQ3eKm",
        "colab_type": "code",
        "colab": {
          "base_uri": "https://localhost:8080/",
          "height": 146
        },
        "outputId": "02d8549a-2cf4-4869-8790-69195b1a203f"
      },
      "source": [
        "lr_model = LogisticRegression(max_iter=1000, tol = 0.001,  verbose=1)\n",
        "lr_model.fit(X_train, y_train)"
      ],
      "execution_count": 52,
      "outputs": [
        {
          "output_type": "stream",
          "text": [
            "[Parallel(n_jobs=1)]: Using backend SequentialBackend with 1 concurrent workers.\n",
            "[Parallel(n_jobs=1)]: Done   1 out of   1 | elapsed:  4.1min finished\n"
          ],
          "name": "stderr"
        },
        {
          "output_type": "execute_result",
          "data": {
            "text/plain": [
              "LogisticRegression(C=1.0, class_weight=None, dual=False, fit_intercept=True,\n",
              "                   intercept_scaling=1, l1_ratio=None, max_iter=1000,\n",
              "                   multi_class='auto', n_jobs=None, penalty='l2',\n",
              "                   random_state=None, solver='lbfgs', tol=0.001, verbose=1,\n",
              "                   warm_start=False)"
            ]
          },
          "metadata": {
            "tags": []
          },
          "execution_count": 52
        }
      ]
    },
    {
      "cell_type": "code",
      "metadata": {
        "id": "Qz4dE1SK3eFg",
        "colab_type": "code",
        "colab": {}
      },
      "source": [
        "cv = StratifiedKFold(n_splits=3, shuffle=True)"
      ],
      "execution_count": 53,
      "outputs": []
    },
    {
      "cell_type": "code",
      "metadata": {
        "id": "s51bGyMd3eAq",
        "colab_type": "code",
        "colab": {
          "base_uri": "https://localhost:8080/",
          "height": 127
        },
        "outputId": "4ed262f6-5238-49b8-cb86-a8bb2b929e21"
      },
      "source": [
        "result = cross_val_score(lr_model,X_train,y_train, cv = cv)"
      ],
      "execution_count": 54,
      "outputs": [
        {
          "output_type": "stream",
          "text": [
            "[Parallel(n_jobs=1)]: Using backend SequentialBackend with 1 concurrent workers.\n",
            "[Parallel(n_jobs=1)]: Done   1 out of   1 | elapsed:  1.3min finished\n",
            "[Parallel(n_jobs=1)]: Using backend SequentialBackend with 1 concurrent workers.\n",
            "[Parallel(n_jobs=1)]: Done   1 out of   1 | elapsed:  1.6min finished\n",
            "[Parallel(n_jobs=1)]: Using backend SequentialBackend with 1 concurrent workers.\n",
            "[Parallel(n_jobs=1)]: Done   1 out of   1 | elapsed:  1.7min finished\n"
          ],
          "name": "stderr"
        }
      ]
    },
    {
      "cell_type": "code",
      "metadata": {
        "id": "OS_d1FHk3d7j",
        "colab_type": "code",
        "colab": {
          "base_uri": "https://localhost:8080/",
          "height": 72
        },
        "outputId": "888893c6-27be-46c4-f7f9-78b499d69647"
      },
      "source": [
        "print(f'Lower Limit: {np.min(result)}')\n",
        "print(f'Mean: {np.mean(result)}')\n",
        "print(f'Upper Limit: {np.max(result)}')"
      ],
      "execution_count": 55,
      "outputs": [
        {
          "output_type": "stream",
          "text": [
            "Lower Limit: 0.9239514945547231\n",
            "Mean: 0.9245917115075994\n",
            "Upper Limit: 0.9251152133055277\n"
          ],
          "name": "stdout"
        }
      ]
    },
    {
      "cell_type": "code",
      "metadata": {
        "id": "Wgt3NHrn3d14",
        "colab_type": "code",
        "colab": {}
      },
      "source": [
        "pred = lr_model.predict(X_test)\n",
        "pred_prob = lr_model.predict_proba(X_test)"
      ],
      "execution_count": 56,
      "outputs": []
    },
    {
      "cell_type": "code",
      "metadata": {
        "id": "2TBS5OGW3dwv",
        "colab_type": "code",
        "colab": {
          "base_uri": "https://localhost:8080/",
          "height": 219
        },
        "outputId": "ffbddfdf-4d50-42e2-99da-4d283a19adfc"
      },
      "source": [
        "print(\"Classification:\\n\", \n",
        "       classification_report(y_test, pred, digits=3))\n",
        "\n",
        "# print the area under the curve\n",
        "print(f'AUC: {roc_auc_score(y_test,pred_prob[:,1])}')"
      ],
      "execution_count": 57,
      "outputs": [
        {
          "output_type": "stream",
          "text": [
            "Classification:\n",
            "               precision    recall  f1-score   support\n",
            "\n",
            "         0.0      0.952     0.959     0.955    489067\n",
            "         1.0      0.777     0.746     0.761     93549\n",
            "\n",
            "    accuracy                          0.925    582616\n",
            "   macro avg      0.864     0.852     0.858    582616\n",
            "weighted avg      0.924     0.925     0.924    582616\n",
            "\n",
            "AUC: 0.884714809367819\n"
          ],
          "name": "stdout"
        }
      ]
    },
    {
      "cell_type": "code",
      "metadata": {
        "id": "PPi6I2Nn3diz",
        "colab_type": "code",
        "colab": {
          "base_uri": "https://localhost:8080/",
          "height": 402
        },
        "outputId": "31f9fc5b-f3b8-47f8-84d1-e901f6e359b3"
      },
      "source": [
        "#ROC Curve\n",
        "visualizer = ROCAUC(lr_model, classes = ['Not Delayed', 'Delayed'])\n",
        "\n",
        "visualizer.fit(X_train, y_train)         \n",
        "visualizer.score(X_test, y_test) "
      ],
      "execution_count": 58,
      "outputs": [
        {
          "output_type": "stream",
          "text": [
            "[Parallel(n_jobs=1)]: Using backend SequentialBackend with 1 concurrent workers.\n",
            "[Parallel(n_jobs=1)]: Done   1 out of   1 | elapsed:  4.2min finished\n"
          ],
          "name": "stderr"
        },
        {
          "output_type": "execute_result",
          "data": {
            "text/plain": [
              "0.924758331388084"
            ]
          },
          "metadata": {
            "tags": []
          },
          "execution_count": 58
        },
        {
          "output_type": "display_data",
          "data": {
            "image/png": "[encoded data removed]",
            "text/plain": [
              "<Figure size 576x396 with 1 Axes>"
            ]
          },
          "metadata": {
            "tags": []
          }
        }
      ]
    },
    {
      "cell_type": "markdown",
      "metadata": {
        "id": "yld2wpRt9jnx",
        "colab_type": "text"
      },
      "source": [
        "*For some reason the legend doesn't show...*"
      ]
    },
    {
      "cell_type": "markdown",
      "metadata": {
        "id": "XI_d-LoHEQ8N",
        "colab_type": "text"
      },
      "source": [
        "#**Decision Tree Classifier**"
      ]
    },
    {
      "cell_type": "code",
      "metadata": {
        "id": "k3HJ-Lm6EY3p",
        "colab_type": "code",
        "colab": {}
      },
      "source": [
        "from sklearn.tree import DecisionTreeClassifier\n",
        "clf_dt = DecisionTreeClassifier(random_state = 0)\n",
        "dt_model = clf_dt.fit(X_train, y_train)"
      ],
      "execution_count": 52,
      "outputs": []
    },
    {
      "cell_type": "code",
      "metadata": {
        "id": "g9f-NXgfEYS9",
        "colab_type": "code",
        "colab": {
          "base_uri": "https://localhost:8080/",
          "height": 182
        },
        "outputId": "9b641e7d-0df1-47fd-e216-95481f216811"
      },
      "source": [
        "from sklearn import metrics\n",
        "y_pred = dt_model.predict(X_test)\n",
        "print(metrics.classification_report(y_test,y_pred))"
      ],
      "execution_count": 53,
      "outputs": [
        {
          "output_type": "stream",
          "text": [
            "              precision    recall  f1-score   support\n",
            "\n",
            "         0.0       0.93      0.93      0.93    488604\n",
            "         1.0       0.64      0.64      0.64     94012\n",
            "\n",
            "    accuracy                           0.88    582616\n",
            "   macro avg       0.79      0.79      0.79    582616\n",
            "weighted avg       0.88      0.88      0.88    582616\n",
            "\n"
          ],
          "name": "stdout"
        }
      ]
    },
    {
      "cell_type": "code",
      "metadata": {
        "id": "cx2V39GCFKQF",
        "colab_type": "code",
        "colab": {
          "base_uri": "https://localhost:8080/",
          "height": 365
        },
        "outputId": "9a79dd26-f831-4aba-c222-f35ba171c164"
      },
      "source": [
        "#ROC Curve\n",
        "visualizer = ROCAUC(dt_model, classes = ['Not Delayed', 'Delayed'])\n",
        "\n",
        "visualizer.fit(X_train, y_train)         \n",
        "visualizer.score(X_test, y_test) "
      ],
      "execution_count": 54,
      "outputs": [
        {
          "output_type": "execute_result",
          "data": {
            "text/plain": [
              "0.883918395649965"
            ]
          },
          "metadata": {
            "tags": []
          },
          "execution_count": 54
        },
        {
          "output_type": "display_data",
          "data": {
            "image/png": "[encoded data removed]",
            "text/plain": [
              "<Figure size 576x396 with 1 Axes>"
            ]
          },
          "metadata": {
            "tags": []
          }
        }
      ]
    },
    {
      "cell_type": "markdown",
      "metadata": {
        "id": "caDpHpqnYmsn",
        "colab_type": "text"
      },
      "source": [
        "#**Random Forest Classifier**"
      ]
    },
    {
      "cell_type": "code",
      "metadata": {
        "id": "JrvSeBuHVZyn",
        "colab_type": "code",
        "colab": {
          "base_uri": "https://localhost:8080/",
          "height": 246
        },
        "outputId": "be14610d-68b2-4685-c91e-c06c0c640035"
      },
      "source": [
        "# Import train_test_split function\n",
        "from sklearn.model_selection import train_test_split\n",
        "\n",
        "X = df_dum.drop(['ARR_DEL15'], axis = 1)\n",
        "y = df_dum['ARR_DEL15']\n",
        "X_train, X_test, y_train, y_test = train_test_split(X, y, test_size=0.9) # 10% training and 90% test because the model is very slow and doesn't run. It crashes--out of RAM memory"
      ],
      "execution_count": 1,
      "outputs": [
        {
          "output_type": "error",
          "ename": "NameError",
          "evalue": "ignored",
          "traceback": [
            "\u001b[0;31m---------------------------------------------------------------------------\u001b[0m",
            "\u001b[0;31mNameError\u001b[0m                                 Traceback (most recent call last)",
            "\u001b[0;32m<ipython-input-1-4e9f244fd3e6>\u001b[0m in \u001b[0;36m<module>\u001b[0;34m()\u001b[0m\n\u001b[1;32m      2\u001b[0m \u001b[0;32mfrom\u001b[0m \u001b[0msklearn\u001b[0m\u001b[0;34m.\u001b[0m\u001b[0mmodel_selection\u001b[0m \u001b[0;32mimport\u001b[0m \u001b[0mtrain_test_split\u001b[0m\u001b[0;34m\u001b[0m\u001b[0;34m\u001b[0m\u001b[0m\n\u001b[1;32m      3\u001b[0m \u001b[0;34m\u001b[0m\u001b[0m\n\u001b[0;32m----> 4\u001b[0;31m \u001b[0mX\u001b[0m \u001b[0;34m=\u001b[0m \u001b[0mdf_dum\u001b[0m\u001b[0;34m.\u001b[0m\u001b[0mdrop\u001b[0m\u001b[0;34m(\u001b[0m\u001b[0;34m[\u001b[0m\u001b[0;34m'ARR_DEL15'\u001b[0m\u001b[0;34m]\u001b[0m\u001b[0;34m,\u001b[0m \u001b[0maxis\u001b[0m \u001b[0;34m=\u001b[0m \u001b[0;36m1\u001b[0m\u001b[0;34m)\u001b[0m\u001b[0;34m\u001b[0m\u001b[0;34m\u001b[0m\u001b[0m\n\u001b[0m\u001b[1;32m      5\u001b[0m \u001b[0my\u001b[0m \u001b[0;34m=\u001b[0m \u001b[0mdf_dum\u001b[0m\u001b[0;34m[\u001b[0m\u001b[0;34m'ARR_DEL15'\u001b[0m\u001b[0;34m]\u001b[0m\u001b[0;34m\u001b[0m\u001b[0;34m\u001b[0m\u001b[0m\n\u001b[1;32m      6\u001b[0m \u001b[0mX_train\u001b[0m\u001b[0;34m,\u001b[0m \u001b[0mX_test\u001b[0m\u001b[0;34m,\u001b[0m \u001b[0my_train\u001b[0m\u001b[0;34m,\u001b[0m \u001b[0my_test\u001b[0m \u001b[0;34m=\u001b[0m \u001b[0mtrain_test_split\u001b[0m\u001b[0;34m(\u001b[0m\u001b[0mX\u001b[0m\u001b[0;34m,\u001b[0m \u001b[0my\u001b[0m\u001b[0;34m,\u001b[0m \u001b[0mtest_size\u001b[0m\u001b[0;34m=\u001b[0m\u001b[0;36m0.9\u001b[0m\u001b[0;34m)\u001b[0m \u001b[0;31m# 10% training and 90% test because the model is very slow and doesn't run\u001b[0m\u001b[0;34m\u001b[0m\u001b[0;34m\u001b[0m\u001b[0m\n",
            "\u001b[0;31mNameError\u001b[0m: name 'df_dum' is not defined"
          ]
        }
      ]
    },
    {
      "cell_type": "code",
      "metadata": {
        "id": "CnhL61JcaO7K",
        "colab_type": "code",
        "colab": {}
      },
      "source": [
        "#Create a Gaussian Classifier \n",
        "clf=RandomForestClassifier(n_estimators=100)\n",
        "\n",
        "#Train the model using the training sets y_pred=clf.predict(X_test)\n",
        "clf.fit(X_train,y_train)\n",
        "\n",
        "y_pred=clf.predict(X_test)"
      ],
      "execution_count": null,
      "outputs": []
    },
    {
      "cell_type": "code",
      "metadata": {
        "id": "zdppjsxFbQgl",
        "colab_type": "code",
        "colab": {}
      },
      "source": [
        "print(\"Accuracy:\",metrics.accuracy_score(y_test, y_pred))"
      ],
      "execution_count": null,
      "outputs": []
    }
  ]
}